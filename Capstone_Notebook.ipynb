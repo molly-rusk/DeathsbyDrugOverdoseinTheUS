{
 "cells": [
  {
   "cell_type": "markdown",
   "id": "67c0131d",
   "metadata": {},
   "source": [
    "## Project Overview Description"
   ]
  },
  {
   "cell_type": "markdown",
   "id": "9b33d6b8",
   "metadata": {},
   "source": [
    "Drug problems in the U.S. have been prevalent for many years and one important issue is deaths caused by drug overdose. For this project I wanted to conduct data analysis to determine if deaths by drug overdose have been increasing and which states have been affected the most. I am also interested to see if one gender is more affected by drug overdoses than the other. My research will determine which states show an increase, decrease, or stability of overdose deaths and which sex is affected more by drug overdose."
   ]
  },
  {
   "cell_type": "markdown",
   "id": "9516e3f0",
   "metadata": {},
   "source": [
    "#### Hypotheses:\n",
    "    1. Deaths by drug overdose have increased from 1999-2020.\n",
    "    2. More men have died from opioid drug overdose deaths than women."
   ]
  },
  {
   "cell_type": "markdown",
   "id": "8d7892a0",
   "metadata": {},
   "source": [
    "## Dataset Description"
   ]
  },
  {
   "cell_type": "markdown",
   "id": "f96b5276",
   "metadata": {},
   "source": [
    "I am using five data sets, the first shows the number of drug overdose deaths in the U.S. by state in 2018, the second for drug overdose deaths by state in 2019, and the third the percent change in deaths by state from 2018-2019. The first three datasets were obtained from the CDC website. The dataset for Drug Overdose Deaths in 2018 did not have a downloadable CSV therefore the table information was trasferred to an Excel spreadsheet. After transferring, the appropriate column names were given and the '2018 Number of Deaths' column was correctly formatted from object type to float. Once all of the appropriate transformations were complete the file was saved as a CSV. The 2019 Drug Overdose Deaths dataset and 2018-2019 Drug Overdose Death Rate Increase dataset both had a row with NaN values which were dropped to accurately compare all 3 datasets from the CDC. I included a fourth dataset that has the death rates from drug overdose from 1999-2020 from Injury Facts. Information was pulled from the Injury Facts table and converted to a CSV file. The transformed Injury Facts dataset includes the number of deaths from drug overdose for each year from 1999-2020. The fifth dataset is also from the Injury Facts table and includes the deaths by drug overdose from 1999-2020 organized by sex and the number of deaths by opioids. \n",
    "\n",
    "Datasets:\n",
    "   - CDC\n",
    "       - https://www.cdc.gov/drugoverdose/deaths/2018.html\n",
    "       - https://www.cdc.gov/drugoverdose/deaths/2019.html\n",
    "       - https://www.cdc.gov/drugoverdose/deaths/2018-2019-increase.html\n",
    "   - Injury Facts (Two CSVs have been created from this table and transformed to CSVs)\n",
    "       - https://injuryfacts.nsc.org/home-and-community/safety-topics/drugoverdoses/data-details/"
   ]
  },
  {
   "cell_type": "markdown",
   "id": "581e8782",
   "metadata": {},
   "source": [
    "## Exploratory Data Analysis (EDA)"
   ]
  },
  {
   "cell_type": "code",
   "execution_count": 1,
   "id": "f6b968c2",
   "metadata": {},
   "outputs": [],
   "source": [
    "import pandas as pd\n",
    "import numpy as np\n",
    "import matplotlib.pyplot as plt\n",
    "import seaborn as sb\n",
    "sb.set()\n",
    "from sklearn.linear_model import LinearRegression\n",
    "import scipy.stats"
   ]
  },
  {
   "cell_type": "code",
   "execution_count": 2,
   "id": "af72230b",
   "metadata": {},
   "outputs": [
    {
     "data": {
      "text/html": [
       "<div>\n",
       "<style scoped>\n",
       "    .dataframe tbody tr th:only-of-type {\n",
       "        vertical-align: middle;\n",
       "    }\n",
       "\n",
       "    .dataframe tbody tr th {\n",
       "        vertical-align: top;\n",
       "    }\n",
       "\n",
       "    .dataframe thead th {\n",
       "        text-align: right;\n",
       "    }\n",
       "</style>\n",
       "<table border=\"1\" class=\"dataframe\">\n",
       "  <thead>\n",
       "    <tr style=\"text-align: right;\">\n",
       "      <th></th>\n",
       "      <th>Location</th>\n",
       "      <th>Range Category</th>\n",
       "      <th>2018 Age-adjusted Rate</th>\n",
       "      <th>2018 Number of Deaths</th>\n",
       "    </tr>\n",
       "  </thead>\n",
       "  <tbody>\n",
       "    <tr>\n",
       "      <th>0</th>\n",
       "      <td>Alabama</td>\n",
       "      <td>16.1 to 18.5</td>\n",
       "      <td>16.6</td>\n",
       "      <td>775.0</td>\n",
       "    </tr>\n",
       "    <tr>\n",
       "      <th>1</th>\n",
       "      <td>Alaska</td>\n",
       "      <td>13.6 to 16.0</td>\n",
       "      <td>14.6</td>\n",
       "      <td>110.0</td>\n",
       "    </tr>\n",
       "    <tr>\n",
       "      <th>2</th>\n",
       "      <td>Arizona</td>\n",
       "      <td>21.1 to 57.0</td>\n",
       "      <td>23.8</td>\n",
       "      <td>1670.0</td>\n",
       "    </tr>\n",
       "    <tr>\n",
       "      <th>3</th>\n",
       "      <td>Arkansas</td>\n",
       "      <td>13.6 to 16.0</td>\n",
       "      <td>15.7</td>\n",
       "      <td>444.0</td>\n",
       "    </tr>\n",
       "    <tr>\n",
       "      <th>4</th>\n",
       "      <td>California</td>\n",
       "      <td>11.1 to 13.5</td>\n",
       "      <td>12.8</td>\n",
       "      <td>5348.0</td>\n",
       "    </tr>\n",
       "  </tbody>\n",
       "</table>\n",
       "</div>"
      ],
      "text/plain": [
       "     Location Range Category  2018 Age-adjusted Rate  2018 Number of Deaths\n",
       "0     Alabama   16.1 to 18.5                    16.6                  775.0\n",
       "1      Alaska   13.6 to 16.0                    14.6                  110.0\n",
       "2     Arizona   21.1 to 57.0                    23.8                 1670.0\n",
       "3    Arkansas   13.6 to 16.0                    15.7                  444.0\n",
       "4  California   11.1 to 13.5                    12.8                 5348.0"
      ]
     },
     "execution_count": 2,
     "metadata": {},
     "output_type": "execute_result"
    }
   ],
   "source": [
    "deaths2018 = pd.read_csv('2018-Deaths.csv')\n",
    "deaths2018.head()"
   ]
  },
  {
   "cell_type": "code",
   "execution_count": 3,
   "id": "94f14f83",
   "metadata": {},
   "outputs": [
    {
     "data": {
      "text/html": [
       "<div>\n",
       "<style scoped>\n",
       "    .dataframe tbody tr th:only-of-type {\n",
       "        vertical-align: middle;\n",
       "    }\n",
       "\n",
       "    .dataframe tbody tr th {\n",
       "        vertical-align: top;\n",
       "    }\n",
       "\n",
       "    .dataframe thead th {\n",
       "        text-align: right;\n",
       "    }\n",
       "</style>\n",
       "<table border=\"1\" class=\"dataframe\">\n",
       "  <thead>\n",
       "    <tr style=\"text-align: right;\">\n",
       "      <th></th>\n",
       "      <th>Location</th>\n",
       "      <th>Range Category</th>\n",
       "      <th>2019 Age-adjusted Rate</th>\n",
       "      <th>2019 Number of Deaths</th>\n",
       "    </tr>\n",
       "  </thead>\n",
       "  <tbody>\n",
       "    <tr>\n",
       "      <th>0</th>\n",
       "      <td>Alabama</td>\n",
       "      <td>16.1 to 18.5</td>\n",
       "      <td>16.3</td>\n",
       "      <td>768.0</td>\n",
       "    </tr>\n",
       "    <tr>\n",
       "      <th>1</th>\n",
       "      <td>Alaska</td>\n",
       "      <td>16.1 to 18.5</td>\n",
       "      <td>17.8</td>\n",
       "      <td>132.0</td>\n",
       "    </tr>\n",
       "    <tr>\n",
       "      <th>2</th>\n",
       "      <td>Arizona</td>\n",
       "      <td>21.1 to 57.0</td>\n",
       "      <td>26.8</td>\n",
       "      <td>1907.0</td>\n",
       "    </tr>\n",
       "    <tr>\n",
       "      <th>3</th>\n",
       "      <td>Arkansas</td>\n",
       "      <td>11.1 to 13.5</td>\n",
       "      <td>13.5</td>\n",
       "      <td>388.0</td>\n",
       "    </tr>\n",
       "    <tr>\n",
       "      <th>4</th>\n",
       "      <td>California</td>\n",
       "      <td>13.6 to 16.0</td>\n",
       "      <td>15.0</td>\n",
       "      <td>6198.0</td>\n",
       "    </tr>\n",
       "  </tbody>\n",
       "</table>\n",
       "</div>"
      ],
      "text/plain": [
       "     Location Range Category  2019 Age-adjusted Rate  2019 Number of Deaths\n",
       "0     Alabama   16.1 to 18.5                    16.3                  768.0\n",
       "1      Alaska   16.1 to 18.5                    17.8                  132.0\n",
       "2     Arizona   21.1 to 57.0                    26.8                 1907.0\n",
       "3    Arkansas   11.1 to 13.5                    13.5                  388.0\n",
       "4  California   13.6 to 16.0                    15.0                 6198.0"
      ]
     },
     "execution_count": 3,
     "metadata": {},
     "output_type": "execute_result"
    }
   ],
   "source": [
    "deaths2019 = pd.read_csv('2019-Deaths.csv')\n",
    "deaths2019.head()"
   ]
  },
  {
   "cell_type": "code",
   "execution_count": 4,
   "id": "0b892ba2",
   "metadata": {
    "scrolled": true
   },
   "outputs": [
    {
     "data": {
      "text/html": [
       "<div>\n",
       "<style scoped>\n",
       "    .dataframe tbody tr th:only-of-type {\n",
       "        vertical-align: middle;\n",
       "    }\n",
       "\n",
       "    .dataframe tbody tr th {\n",
       "        vertical-align: top;\n",
       "    }\n",
       "\n",
       "    .dataframe thead th {\n",
       "        text-align: right;\n",
       "    }\n",
       "</style>\n",
       "<table border=\"1\" class=\"dataframe\">\n",
       "  <thead>\n",
       "    <tr style=\"text-align: right;\">\n",
       "      <th></th>\n",
       "      <th>Location</th>\n",
       "      <th>Statistically Significant Change</th>\n",
       "      <th>Percent Change from 2018-2019</th>\n",
       "    </tr>\n",
       "  </thead>\n",
       "  <tbody>\n",
       "    <tr>\n",
       "      <th>0</th>\n",
       "      <td>Alabama</td>\n",
       "      <td>Stable</td>\n",
       "      <td>-1.8</td>\n",
       "    </tr>\n",
       "    <tr>\n",
       "      <th>1</th>\n",
       "      <td>Alaska</td>\n",
       "      <td>Stable</td>\n",
       "      <td>21.9</td>\n",
       "    </tr>\n",
       "    <tr>\n",
       "      <th>2</th>\n",
       "      <td>Arizona</td>\n",
       "      <td>Increase</td>\n",
       "      <td>12.6</td>\n",
       "    </tr>\n",
       "    <tr>\n",
       "      <th>3</th>\n",
       "      <td>Arkansas</td>\n",
       "      <td>Decrease</td>\n",
       "      <td>-14.0</td>\n",
       "    </tr>\n",
       "    <tr>\n",
       "      <th>4</th>\n",
       "      <td>California</td>\n",
       "      <td>Increase</td>\n",
       "      <td>17.2</td>\n",
       "    </tr>\n",
       "  </tbody>\n",
       "</table>\n",
       "</div>"
      ],
      "text/plain": [
       "     Location Statistically Significant Change   Percent Change from 2018-2019\n",
       "0     Alabama                            Stable                           -1.8\n",
       "1      Alaska                            Stable                           21.9\n",
       "2     Arizona                          Increase                           12.6\n",
       "3    Arkansas                          Decrease                          -14.0\n",
       "4  California                          Increase                           17.2"
      ]
     },
     "execution_count": 4,
     "metadata": {},
     "output_type": "execute_result"
    }
   ],
   "source": [
    "deathchange = pd.read_csv('2018-2019-Deaths.csv')\n",
    "deathchange.head()"
   ]
  },
  {
   "cell_type": "code",
   "execution_count": 5,
   "id": "08e4f7eb",
   "metadata": {
    "scrolled": true
   },
   "outputs": [
    {
     "data": {
      "text/html": [
       "<div>\n",
       "<style scoped>\n",
       "    .dataframe tbody tr th:only-of-type {\n",
       "        vertical-align: middle;\n",
       "    }\n",
       "\n",
       "    .dataframe tbody tr th {\n",
       "        vertical-align: top;\n",
       "    }\n",
       "\n",
       "    .dataframe thead th {\n",
       "        text-align: right;\n",
       "    }\n",
       "</style>\n",
       "<table border=\"1\" class=\"dataframe\">\n",
       "  <thead>\n",
       "    <tr style=\"text-align: right;\">\n",
       "      <th></th>\n",
       "      <th>Year</th>\n",
       "      <th>Deaths</th>\n",
       "    </tr>\n",
       "  </thead>\n",
       "  <tbody>\n",
       "    <tr>\n",
       "      <th>0</th>\n",
       "      <td>1999</td>\n",
       "      <td>16849.0</td>\n",
       "    </tr>\n",
       "    <tr>\n",
       "      <th>1</th>\n",
       "      <td>2000</td>\n",
       "      <td>17416.0</td>\n",
       "    </tr>\n",
       "    <tr>\n",
       "      <th>2</th>\n",
       "      <td>2001</td>\n",
       "      <td>19394.0</td>\n",
       "    </tr>\n",
       "    <tr>\n",
       "      <th>3</th>\n",
       "      <td>2002</td>\n",
       "      <td>23518.0</td>\n",
       "    </tr>\n",
       "    <tr>\n",
       "      <th>4</th>\n",
       "      <td>2003</td>\n",
       "      <td>25785.0</td>\n",
       "    </tr>\n",
       "  </tbody>\n",
       "</table>\n",
       "</div>"
      ],
      "text/plain": [
       "   Year   Deaths\n",
       "0  1999  16849.0\n",
       "1  2000  17416.0\n",
       "2  2001  19394.0\n",
       "3  2002  23518.0\n",
       "4  2003  25785.0"
      ]
     },
     "execution_count": 5,
     "metadata": {},
     "output_type": "execute_result"
    }
   ],
   "source": [
    "deathstimeline = pd.read_csv('DODRTimeline.csv')\n",
    "deathstimeline.head()"
   ]
  },
  {
   "cell_type": "code",
   "execution_count": 110,
   "id": "5a1c38f3",
   "metadata": {
    "scrolled": true
   },
   "outputs": [
    {
     "data": {
      "text/html": [
       "<div>\n",
       "<style scoped>\n",
       "    .dataframe tbody tr th:only-of-type {\n",
       "        vertical-align: middle;\n",
       "    }\n",
       "\n",
       "    .dataframe tbody tr th {\n",
       "        vertical-align: top;\n",
       "    }\n",
       "\n",
       "    .dataframe thead th {\n",
       "        text-align: right;\n",
       "    }\n",
       "</style>\n",
       "<table border=\"1\" class=\"dataframe\">\n",
       "  <thead>\n",
       "    <tr style=\"text-align: right;\">\n",
       "      <th></th>\n",
       "      <th>Year</th>\n",
       "      <th>Gender</th>\n",
       "      <th>Drug Type</th>\n",
       "      <th>Deaths</th>\n",
       "    </tr>\n",
       "  </thead>\n",
       "  <tbody>\n",
       "    <tr>\n",
       "      <th>0</th>\n",
       "      <td>2020</td>\n",
       "      <td>Both AD</td>\n",
       "      <td>All Drugs</td>\n",
       "      <td>91799.0</td>\n",
       "    </tr>\n",
       "    <tr>\n",
       "      <th>1</th>\n",
       "      <td>2020</td>\n",
       "      <td>Both AO</td>\n",
       "      <td>Any Opioid B</td>\n",
       "      <td>68630.0</td>\n",
       "    </tr>\n",
       "    <tr>\n",
       "      <th>2</th>\n",
       "      <td>2020</td>\n",
       "      <td>Female</td>\n",
       "      <td>Any Opioid F</td>\n",
       "      <td>19970.0</td>\n",
       "    </tr>\n",
       "    <tr>\n",
       "      <th>3</th>\n",
       "      <td>2020</td>\n",
       "      <td>Male</td>\n",
       "      <td>Any Opioid M</td>\n",
       "      <td>48660.0</td>\n",
       "    </tr>\n",
       "    <tr>\n",
       "      <th>4</th>\n",
       "      <td>2019</td>\n",
       "      <td>Both AD</td>\n",
       "      <td>All Drugs</td>\n",
       "      <td>70630.0</td>\n",
       "    </tr>\n",
       "  </tbody>\n",
       "</table>\n",
       "</div>"
      ],
      "text/plain": [
       "   Year   Gender     Drug Type   Deaths\n",
       "0  2020  Both AD     All Drugs  91799.0\n",
       "1  2020  Both AO  Any Opioid B  68630.0\n",
       "2  2020   Female  Any Opioid F  19970.0\n",
       "3  2020     Male  Any Opioid M  48660.0\n",
       "4  2019  Both AD     All Drugs  70630.0"
      ]
     },
     "execution_count": 110,
     "metadata": {},
     "output_type": "execute_result"
    }
   ],
   "source": [
    "opioidtimeline = pd.read_csv('OpioidTimeline.csv')\n",
    "opioidtimeline.head()"
   ]
  },
  {
   "cell_type": "markdown",
   "id": "5ab6d228",
   "metadata": {},
   "source": [
    "The opioidtimeline table is broken down by year (1999-2020), how many deaths from all drugs from both genders (Both AD), how many deaths from both genders for any opioids (Both AO), and then deaths from any opioids for males and females specificallly"
   ]
  },
  {
   "cell_type": "code",
   "execution_count": 7,
   "id": "7e0fce02",
   "metadata": {},
   "outputs": [
    {
     "data": {
      "text/plain": [
       "(51, 4)"
      ]
     },
     "execution_count": 7,
     "metadata": {},
     "output_type": "execute_result"
    }
   ],
   "source": [
    "deaths2018.shape"
   ]
  },
  {
   "cell_type": "code",
   "execution_count": 8,
   "id": "59474867",
   "metadata": {},
   "outputs": [
    {
     "data": {
      "text/plain": [
       "(52, 4)"
      ]
     },
     "execution_count": 8,
     "metadata": {},
     "output_type": "execute_result"
    }
   ],
   "source": [
    "deaths2019.shape"
   ]
  },
  {
   "cell_type": "code",
   "execution_count": 9,
   "id": "9513a481",
   "metadata": {
    "scrolled": true
   },
   "outputs": [
    {
     "data": {
      "text/plain": [
       "(52, 3)"
      ]
     },
     "execution_count": 9,
     "metadata": {},
     "output_type": "execute_result"
    }
   ],
   "source": [
    "deathchange.shape"
   ]
  },
  {
   "cell_type": "code",
   "execution_count": 10,
   "id": "29dd52e2",
   "metadata": {
    "scrolled": true
   },
   "outputs": [
    {
     "data": {
      "text/plain": [
       "(22, 2)"
      ]
     },
     "execution_count": 10,
     "metadata": {},
     "output_type": "execute_result"
    }
   ],
   "source": [
    "deathstimeline.shape"
   ]
  },
  {
   "cell_type": "code",
   "execution_count": 11,
   "id": "63f639ce",
   "metadata": {},
   "outputs": [
    {
     "data": {
      "text/plain": [
       "(88, 4)"
      ]
     },
     "execution_count": 11,
     "metadata": {},
     "output_type": "execute_result"
    }
   ],
   "source": [
    "opioidtimeline.shape"
   ]
  },
  {
   "cell_type": "markdown",
   "id": "5c5077f8",
   "metadata": {},
   "source": [
    "The deaths dataset for 2019 and the change in deaths 2018-2019 deaths dataset both have an extra row compared to the 2018 dataset. "
   ]
  },
  {
   "cell_type": "code",
   "execution_count": 12,
   "id": "8397cb6d",
   "metadata": {},
   "outputs": [
    {
     "data": {
      "text/html": [
       "<div>\n",
       "<style scoped>\n",
       "    .dataframe tbody tr th:only-of-type {\n",
       "        vertical-align: middle;\n",
       "    }\n",
       "\n",
       "    .dataframe tbody tr th {\n",
       "        vertical-align: top;\n",
       "    }\n",
       "\n",
       "    .dataframe thead th {\n",
       "        text-align: right;\n",
       "    }\n",
       "</style>\n",
       "<table border=\"1\" class=\"dataframe\">\n",
       "  <thead>\n",
       "    <tr style=\"text-align: right;\">\n",
       "      <th></th>\n",
       "      <th>Location</th>\n",
       "      <th>Range Category</th>\n",
       "      <th>2019 Age-adjusted Rate</th>\n",
       "      <th>2019 Number of Deaths</th>\n",
       "    </tr>\n",
       "  </thead>\n",
       "  <tbody>\n",
       "    <tr>\n",
       "      <th>47</th>\n",
       "      <td>Washington</td>\n",
       "      <td>13.6 to 16.0</td>\n",
       "      <td>15.8</td>\n",
       "      <td>1259.0</td>\n",
       "    </tr>\n",
       "    <tr>\n",
       "      <th>48</th>\n",
       "      <td>West Virginia</td>\n",
       "      <td>21.1 to 57.0</td>\n",
       "      <td>52.8</td>\n",
       "      <td>870.0</td>\n",
       "    </tr>\n",
       "    <tr>\n",
       "      <th>49</th>\n",
       "      <td>Wisconsin</td>\n",
       "      <td>21.1 to 57.0</td>\n",
       "      <td>21.1</td>\n",
       "      <td>1201.0</td>\n",
       "    </tr>\n",
       "    <tr>\n",
       "      <th>50</th>\n",
       "      <td>Wyoming</td>\n",
       "      <td>13.6 to 16.0</td>\n",
       "      <td>14.1</td>\n",
       "      <td>79.0</td>\n",
       "    </tr>\n",
       "    <tr>\n",
       "      <th>51</th>\n",
       "      <td>NaN</td>\n",
       "      <td>NaN</td>\n",
       "      <td>NaN</td>\n",
       "      <td>NaN</td>\n",
       "    </tr>\n",
       "  </tbody>\n",
       "</table>\n",
       "</div>"
      ],
      "text/plain": [
       "         Location Range Category  2019 Age-adjusted Rate  \\\n",
       "47     Washington   13.6 to 16.0                    15.8   \n",
       "48  West Virginia   21.1 to 57.0                    52.8   \n",
       "49      Wisconsin   21.1 to 57.0                    21.1   \n",
       "50        Wyoming   13.6 to 16.0                    14.1   \n",
       "51            NaN            NaN                     NaN   \n",
       "\n",
       "    2019 Number of Deaths  \n",
       "47                 1259.0  \n",
       "48                  870.0  \n",
       "49                 1201.0  \n",
       "50                   79.0  \n",
       "51                    NaN  "
      ]
     },
     "execution_count": 12,
     "metadata": {},
     "output_type": "execute_result"
    }
   ],
   "source": [
    "deaths2019.tail()"
   ]
  },
  {
   "cell_type": "code",
   "execution_count": 13,
   "id": "2cca32f3",
   "metadata": {
    "scrolled": true
   },
   "outputs": [
    {
     "data": {
      "text/html": [
       "<div>\n",
       "<style scoped>\n",
       "    .dataframe tbody tr th:only-of-type {\n",
       "        vertical-align: middle;\n",
       "    }\n",
       "\n",
       "    .dataframe tbody tr th {\n",
       "        vertical-align: top;\n",
       "    }\n",
       "\n",
       "    .dataframe thead th {\n",
       "        text-align: right;\n",
       "    }\n",
       "</style>\n",
       "<table border=\"1\" class=\"dataframe\">\n",
       "  <thead>\n",
       "    <tr style=\"text-align: right;\">\n",
       "      <th></th>\n",
       "      <th>Location</th>\n",
       "      <th>Statistically Significant Change</th>\n",
       "      <th>Percent Change from 2018-2019</th>\n",
       "    </tr>\n",
       "  </thead>\n",
       "  <tbody>\n",
       "    <tr>\n",
       "      <th>47</th>\n",
       "      <td>Washington</td>\n",
       "      <td>Stable</td>\n",
       "      <td>6.8</td>\n",
       "    </tr>\n",
       "    <tr>\n",
       "      <th>48</th>\n",
       "      <td>West Virginia</td>\n",
       "      <td>Stable</td>\n",
       "      <td>2.5</td>\n",
       "    </tr>\n",
       "    <tr>\n",
       "      <th>49</th>\n",
       "      <td>Wisconsin</td>\n",
       "      <td>Increase</td>\n",
       "      <td>9.9</td>\n",
       "    </tr>\n",
       "    <tr>\n",
       "      <th>50</th>\n",
       "      <td>Wyoming</td>\n",
       "      <td>Stable</td>\n",
       "      <td>27.0</td>\n",
       "    </tr>\n",
       "    <tr>\n",
       "      <th>51</th>\n",
       "      <td>NaN</td>\n",
       "      <td>NaN</td>\n",
       "      <td>NaN</td>\n",
       "    </tr>\n",
       "  </tbody>\n",
       "</table>\n",
       "</div>"
      ],
      "text/plain": [
       "         Location Statistically Significant Change   \\\n",
       "47     Washington                            Stable   \n",
       "48  West Virginia                            Stable   \n",
       "49      Wisconsin                          Increase   \n",
       "50        Wyoming                            Stable   \n",
       "51            NaN                               NaN   \n",
       "\n",
       "    Percent Change from 2018-2019  \n",
       "47                            6.8  \n",
       "48                            2.5  \n",
       "49                            9.9  \n",
       "50                           27.0  \n",
       "51                            NaN  "
      ]
     },
     "execution_count": 13,
     "metadata": {},
     "output_type": "execute_result"
    }
   ],
   "source": [
    "deathchange.tail()"
   ]
  },
  {
   "cell_type": "markdown",
   "id": "3b233d77",
   "metadata": {},
   "source": [
    "We can see that both of the datasets contain a row with NaN values that do not pertain to the dataset. The NaN row can be dropped from both datasets to have comparable sized datasets."
   ]
  },
  {
   "cell_type": "markdown",
   "id": "a93a28a4",
   "metadata": {},
   "source": [
    "## Data Wrangling"
   ]
  },
  {
   "cell_type": "code",
   "execution_count": 14,
   "id": "03b8ed6e",
   "metadata": {},
   "outputs": [
    {
     "data": {
      "text/plain": [
       "Location                  1\n",
       "Range Category            1\n",
       "2019 Age-adjusted Rate    1\n",
       "2019 Number of Deaths     1\n",
       "dtype: int64"
      ]
     },
     "execution_count": 14,
     "metadata": {},
     "output_type": "execute_result"
    }
   ],
   "source": [
    "deaths2019.isnull().sum()"
   ]
  },
  {
   "cell_type": "code",
   "execution_count": 15,
   "id": "306c4b97",
   "metadata": {},
   "outputs": [],
   "source": [
    "deaths2019 = deaths2019.dropna()"
   ]
  },
  {
   "cell_type": "code",
   "execution_count": 16,
   "id": "58476a1a",
   "metadata": {},
   "outputs": [
    {
     "data": {
      "text/html": [
       "<div>\n",
       "<style scoped>\n",
       "    .dataframe tbody tr th:only-of-type {\n",
       "        vertical-align: middle;\n",
       "    }\n",
       "\n",
       "    .dataframe tbody tr th {\n",
       "        vertical-align: top;\n",
       "    }\n",
       "\n",
       "    .dataframe thead th {\n",
       "        text-align: right;\n",
       "    }\n",
       "</style>\n",
       "<table border=\"1\" class=\"dataframe\">\n",
       "  <thead>\n",
       "    <tr style=\"text-align: right;\">\n",
       "      <th></th>\n",
       "      <th>Location</th>\n",
       "      <th>Range Category</th>\n",
       "      <th>2019 Age-adjusted Rate</th>\n",
       "      <th>2019 Number of Deaths</th>\n",
       "    </tr>\n",
       "  </thead>\n",
       "  <tbody>\n",
       "    <tr>\n",
       "      <th>46</th>\n",
       "      <td>Virginia</td>\n",
       "      <td>16.1 to 18.5</td>\n",
       "      <td>18.3</td>\n",
       "      <td>1547.0</td>\n",
       "    </tr>\n",
       "    <tr>\n",
       "      <th>47</th>\n",
       "      <td>Washington</td>\n",
       "      <td>13.6 to 16.0</td>\n",
       "      <td>15.8</td>\n",
       "      <td>1259.0</td>\n",
       "    </tr>\n",
       "    <tr>\n",
       "      <th>48</th>\n",
       "      <td>West Virginia</td>\n",
       "      <td>21.1 to 57.0</td>\n",
       "      <td>52.8</td>\n",
       "      <td>870.0</td>\n",
       "    </tr>\n",
       "    <tr>\n",
       "      <th>49</th>\n",
       "      <td>Wisconsin</td>\n",
       "      <td>21.1 to 57.0</td>\n",
       "      <td>21.1</td>\n",
       "      <td>1201.0</td>\n",
       "    </tr>\n",
       "    <tr>\n",
       "      <th>50</th>\n",
       "      <td>Wyoming</td>\n",
       "      <td>13.6 to 16.0</td>\n",
       "      <td>14.1</td>\n",
       "      <td>79.0</td>\n",
       "    </tr>\n",
       "  </tbody>\n",
       "</table>\n",
       "</div>"
      ],
      "text/plain": [
       "         Location Range Category  2019 Age-adjusted Rate  \\\n",
       "46       Virginia   16.1 to 18.5                    18.3   \n",
       "47     Washington   13.6 to 16.0                    15.8   \n",
       "48  West Virginia   21.1 to 57.0                    52.8   \n",
       "49      Wisconsin   21.1 to 57.0                    21.1   \n",
       "50        Wyoming   13.6 to 16.0                    14.1   \n",
       "\n",
       "    2019 Number of Deaths  \n",
       "46                 1547.0  \n",
       "47                 1259.0  \n",
       "48                  870.0  \n",
       "49                 1201.0  \n",
       "50                   79.0  "
      ]
     },
     "execution_count": 16,
     "metadata": {},
     "output_type": "execute_result"
    }
   ],
   "source": [
    "deaths2019.tail()"
   ]
  },
  {
   "cell_type": "code",
   "execution_count": 17,
   "id": "258e2d25",
   "metadata": {},
   "outputs": [
    {
     "data": {
      "text/plain": [
       "(51, 4)"
      ]
     },
     "execution_count": 17,
     "metadata": {},
     "output_type": "execute_result"
    }
   ],
   "source": [
    "deaths2019.shape"
   ]
  },
  {
   "cell_type": "code",
   "execution_count": 18,
   "id": "c62b6f43",
   "metadata": {},
   "outputs": [
    {
     "data": {
      "text/plain": [
       "Location                             1\n",
       "Statistically Significant Change     1\n",
       "Percent Change from 2018-2019        1\n",
       "dtype: int64"
      ]
     },
     "execution_count": 18,
     "metadata": {},
     "output_type": "execute_result"
    }
   ],
   "source": [
    "deathchange.isnull().sum()"
   ]
  },
  {
   "cell_type": "code",
   "execution_count": 19,
   "id": "a9b22cae",
   "metadata": {},
   "outputs": [],
   "source": [
    "deathchange = deathchange.dropna()"
   ]
  },
  {
   "cell_type": "code",
   "execution_count": 20,
   "id": "7a53b677",
   "metadata": {},
   "outputs": [
    {
     "data": {
      "text/html": [
       "<div>\n",
       "<style scoped>\n",
       "    .dataframe tbody tr th:only-of-type {\n",
       "        vertical-align: middle;\n",
       "    }\n",
       "\n",
       "    .dataframe tbody tr th {\n",
       "        vertical-align: top;\n",
       "    }\n",
       "\n",
       "    .dataframe thead th {\n",
       "        text-align: right;\n",
       "    }\n",
       "</style>\n",
       "<table border=\"1\" class=\"dataframe\">\n",
       "  <thead>\n",
       "    <tr style=\"text-align: right;\">\n",
       "      <th></th>\n",
       "      <th>Location</th>\n",
       "      <th>Statistically Significant Change</th>\n",
       "      <th>Percent Change from 2018-2019</th>\n",
       "    </tr>\n",
       "  </thead>\n",
       "  <tbody>\n",
       "    <tr>\n",
       "      <th>46</th>\n",
       "      <td>Virginia</td>\n",
       "      <td>Stable</td>\n",
       "      <td>7.0</td>\n",
       "    </tr>\n",
       "    <tr>\n",
       "      <th>47</th>\n",
       "      <td>Washington</td>\n",
       "      <td>Stable</td>\n",
       "      <td>6.8</td>\n",
       "    </tr>\n",
       "    <tr>\n",
       "      <th>48</th>\n",
       "      <td>West Virginia</td>\n",
       "      <td>Stable</td>\n",
       "      <td>2.5</td>\n",
       "    </tr>\n",
       "    <tr>\n",
       "      <th>49</th>\n",
       "      <td>Wisconsin</td>\n",
       "      <td>Increase</td>\n",
       "      <td>9.9</td>\n",
       "    </tr>\n",
       "    <tr>\n",
       "      <th>50</th>\n",
       "      <td>Wyoming</td>\n",
       "      <td>Stable</td>\n",
       "      <td>27.0</td>\n",
       "    </tr>\n",
       "  </tbody>\n",
       "</table>\n",
       "</div>"
      ],
      "text/plain": [
       "         Location Statistically Significant Change   \\\n",
       "46       Virginia                            Stable   \n",
       "47     Washington                            Stable   \n",
       "48  West Virginia                            Stable   \n",
       "49      Wisconsin                          Increase   \n",
       "50        Wyoming                            Stable   \n",
       "\n",
       "    Percent Change from 2018-2019  \n",
       "46                            7.0  \n",
       "47                            6.8  \n",
       "48                            2.5  \n",
       "49                            9.9  \n",
       "50                           27.0  "
      ]
     },
     "execution_count": 20,
     "metadata": {},
     "output_type": "execute_result"
    }
   ],
   "source": [
    "deathchange.tail()"
   ]
  },
  {
   "cell_type": "code",
   "execution_count": 21,
   "id": "dc62f013",
   "metadata": {},
   "outputs": [
    {
     "data": {
      "text/plain": [
       "Year      0\n",
       "Deaths    0\n",
       "dtype: int64"
      ]
     },
     "execution_count": 21,
     "metadata": {},
     "output_type": "execute_result"
    }
   ],
   "source": [
    "deathstimeline.isnull().sum()"
   ]
  },
  {
   "cell_type": "code",
   "execution_count": 22,
   "id": "a8e77fa9",
   "metadata": {},
   "outputs": [
    {
     "data": {
      "text/plain": [
       "Year         0\n",
       "Gender       0\n",
       "Drug Type    0\n",
       "Deaths       0\n",
       "dtype: int64"
      ]
     },
     "execution_count": 22,
     "metadata": {},
     "output_type": "execute_result"
    }
   ],
   "source": [
    "opioidtimeline.isnull().sum()"
   ]
  },
  {
   "cell_type": "markdown",
   "id": "848dcd71",
   "metadata": {},
   "source": [
    "Visualize the types of data for each dataset"
   ]
  },
  {
   "cell_type": "code",
   "execution_count": 23,
   "id": "c2d1e325",
   "metadata": {},
   "outputs": [
    {
     "name": "stdout",
     "output_type": "stream",
     "text": [
      "<class 'pandas.core.frame.DataFrame'>\n",
      "RangeIndex: 51 entries, 0 to 50\n",
      "Data columns (total 4 columns):\n",
      " #   Column                  Non-Null Count  Dtype  \n",
      "---  ------                  --------------  -----  \n",
      " 0   Location                51 non-null     object \n",
      " 1   Range Category          51 non-null     object \n",
      " 2   2018 Age-adjusted Rate  51 non-null     float64\n",
      " 3   2018 Number of Deaths   51 non-null     float64\n",
      "dtypes: float64(2), object(2)\n",
      "memory usage: 1.7+ KB\n"
     ]
    }
   ],
   "source": [
    "deaths2018.info()"
   ]
  },
  {
   "cell_type": "code",
   "execution_count": 24,
   "id": "2c752368",
   "metadata": {},
   "outputs": [
    {
     "name": "stdout",
     "output_type": "stream",
     "text": [
      "<class 'pandas.core.frame.DataFrame'>\n",
      "Int64Index: 51 entries, 0 to 50\n",
      "Data columns (total 4 columns):\n",
      " #   Column                  Non-Null Count  Dtype  \n",
      "---  ------                  --------------  -----  \n",
      " 0   Location                51 non-null     object \n",
      " 1   Range Category          51 non-null     object \n",
      " 2   2019 Age-adjusted Rate  51 non-null     float64\n",
      " 3   2019 Number of Deaths   51 non-null     float64\n",
      "dtypes: float64(2), object(2)\n",
      "memory usage: 2.0+ KB\n"
     ]
    }
   ],
   "source": [
    "deaths2019.info()"
   ]
  },
  {
   "cell_type": "code",
   "execution_count": 25,
   "id": "9a293c01",
   "metadata": {
    "scrolled": true
   },
   "outputs": [
    {
     "name": "stdout",
     "output_type": "stream",
     "text": [
      "<class 'pandas.core.frame.DataFrame'>\n",
      "Int64Index: 51 entries, 0 to 50\n",
      "Data columns (total 3 columns):\n",
      " #   Column                             Non-Null Count  Dtype  \n",
      "---  ------                             --------------  -----  \n",
      " 0   Location                           51 non-null     object \n",
      " 1   Statistically Significant Change   51 non-null     object \n",
      " 2   Percent Change from 2018-2019      51 non-null     float64\n",
      "dtypes: float64(1), object(2)\n",
      "memory usage: 1.6+ KB\n"
     ]
    }
   ],
   "source": [
    "deathchange.info()"
   ]
  },
  {
   "cell_type": "code",
   "execution_count": 26,
   "id": "3688e12f",
   "metadata": {},
   "outputs": [
    {
     "name": "stdout",
     "output_type": "stream",
     "text": [
      "<class 'pandas.core.frame.DataFrame'>\n",
      "RangeIndex: 22 entries, 0 to 21\n",
      "Data columns (total 2 columns):\n",
      " #   Column  Non-Null Count  Dtype  \n",
      "---  ------  --------------  -----  \n",
      " 0   Year    22 non-null     int64  \n",
      " 1   Deaths  22 non-null     float64\n",
      "dtypes: float64(1), int64(1)\n",
      "memory usage: 480.0 bytes\n"
     ]
    }
   ],
   "source": [
    "deathstimeline.info()"
   ]
  },
  {
   "cell_type": "code",
   "execution_count": 27,
   "id": "10814878",
   "metadata": {},
   "outputs": [
    {
     "name": "stdout",
     "output_type": "stream",
     "text": [
      "<class 'pandas.core.frame.DataFrame'>\n",
      "RangeIndex: 88 entries, 0 to 87\n",
      "Data columns (total 4 columns):\n",
      " #   Column     Non-Null Count  Dtype  \n",
      "---  ------     --------------  -----  \n",
      " 0   Year       88 non-null     int64  \n",
      " 1   Gender     88 non-null     object \n",
      " 2   Drug Type  88 non-null     object \n",
      " 3   Deaths     88 non-null     float64\n",
      "dtypes: float64(1), int64(1), object(2)\n",
      "memory usage: 2.9+ KB\n"
     ]
    }
   ],
   "source": [
    "opioidtimeline.info()"
   ]
  },
  {
   "cell_type": "markdown",
   "id": "3f2fbbd4",
   "metadata": {},
   "source": [
    "After looking at the datatypes that each dataset has we can see that all of the columns have the appropriate datatypes for data exploration."
   ]
  },
  {
   "cell_type": "code",
   "execution_count": 28,
   "id": "192b56e3",
   "metadata": {},
   "outputs": [
    {
     "data": {
      "text/html": [
       "<div>\n",
       "<style scoped>\n",
       "    .dataframe tbody tr th:only-of-type {\n",
       "        vertical-align: middle;\n",
       "    }\n",
       "\n",
       "    .dataframe tbody tr th {\n",
       "        vertical-align: top;\n",
       "    }\n",
       "\n",
       "    .dataframe thead th {\n",
       "        text-align: right;\n",
       "    }\n",
       "</style>\n",
       "<table border=\"1\" class=\"dataframe\">\n",
       "  <thead>\n",
       "    <tr style=\"text-align: right;\">\n",
       "      <th></th>\n",
       "      <th>2018 Age-adjusted Rate</th>\n",
       "      <th>2018 Number of Deaths</th>\n",
       "    </tr>\n",
       "  </thead>\n",
       "  <tbody>\n",
       "    <tr>\n",
       "      <th>count</th>\n",
       "      <td>51.000000</td>\n",
       "      <td>51.000000</td>\n",
       "    </tr>\n",
       "    <tr>\n",
       "      <th>mean</th>\n",
       "      <td>22.039216</td>\n",
       "      <td>1320.921569</td>\n",
       "    </tr>\n",
       "    <tr>\n",
       "      <th>std</th>\n",
       "      <td>10.025389</td>\n",
       "      <td>1320.472171</td>\n",
       "    </tr>\n",
       "    <tr>\n",
       "      <th>min</th>\n",
       "      <td>6.900000</td>\n",
       "      <td>57.000000</td>\n",
       "    </tr>\n",
       "    <tr>\n",
       "      <th>25%</th>\n",
       "      <td>13.750000</td>\n",
       "      <td>331.000000</td>\n",
       "    </tr>\n",
       "    <tr>\n",
       "      <th>50%</th>\n",
       "      <td>21.200000</td>\n",
       "      <td>856.000000</td>\n",
       "    </tr>\n",
       "    <tr>\n",
       "      <th>75%</th>\n",
       "      <td>27.700000</td>\n",
       "      <td>1746.500000</td>\n",
       "    </tr>\n",
       "    <tr>\n",
       "      <th>max</th>\n",
       "      <td>51.500000</td>\n",
       "      <td>5348.000000</td>\n",
       "    </tr>\n",
       "  </tbody>\n",
       "</table>\n",
       "</div>"
      ],
      "text/plain": [
       "       2018 Age-adjusted Rate  2018 Number of Deaths\n",
       "count               51.000000              51.000000\n",
       "mean                22.039216            1320.921569\n",
       "std                 10.025389            1320.472171\n",
       "min                  6.900000              57.000000\n",
       "25%                 13.750000             331.000000\n",
       "50%                 21.200000             856.000000\n",
       "75%                 27.700000            1746.500000\n",
       "max                 51.500000            5348.000000"
      ]
     },
     "execution_count": 28,
     "metadata": {},
     "output_type": "execute_result"
    }
   ],
   "source": [
    "deaths2018.describe()"
   ]
  },
  {
   "cell_type": "code",
   "execution_count": 29,
   "id": "5dd927c5",
   "metadata": {},
   "outputs": [
    {
     "data": {
      "text/html": [
       "<div>\n",
       "<style scoped>\n",
       "    .dataframe tbody tr th:only-of-type {\n",
       "        vertical-align: middle;\n",
       "    }\n",
       "\n",
       "    .dataframe tbody tr th {\n",
       "        vertical-align: top;\n",
       "    }\n",
       "\n",
       "    .dataframe thead th {\n",
       "        text-align: right;\n",
       "    }\n",
       "</style>\n",
       "<table border=\"1\" class=\"dataframe\">\n",
       "  <thead>\n",
       "    <tr style=\"text-align: right;\">\n",
       "      <th></th>\n",
       "      <th>2019 Age-adjusted Rate</th>\n",
       "      <th>2019 Number of Deaths</th>\n",
       "    </tr>\n",
       "  </thead>\n",
       "  <tbody>\n",
       "    <tr>\n",
       "      <th>count</th>\n",
       "      <td>51.000000</td>\n",
       "      <td>51.000000</td>\n",
       "    </tr>\n",
       "    <tr>\n",
       "      <th>mean</th>\n",
       "      <td>23.139216</td>\n",
       "      <td>1384.901961</td>\n",
       "    </tr>\n",
       "    <tr>\n",
       "      <th>std</th>\n",
       "      <td>10.184009</td>\n",
       "      <td>1407.558557</td>\n",
       "    </tr>\n",
       "    <tr>\n",
       "      <th>min</th>\n",
       "      <td>8.700000</td>\n",
       "      <td>79.000000</td>\n",
       "    </tr>\n",
       "    <tr>\n",
       "      <th>25%</th>\n",
       "      <td>14.650000</td>\n",
       "      <td>379.500000</td>\n",
       "    </tr>\n",
       "    <tr>\n",
       "      <th>50%</th>\n",
       "      <td>21.100000</td>\n",
       "      <td>870.000000</td>\n",
       "    </tr>\n",
       "    <tr>\n",
       "      <th>75%</th>\n",
       "      <td>30.050000</td>\n",
       "      <td>1998.000000</td>\n",
       "    </tr>\n",
       "    <tr>\n",
       "      <th>max</th>\n",
       "      <td>52.800000</td>\n",
       "      <td>6198.000000</td>\n",
       "    </tr>\n",
       "  </tbody>\n",
       "</table>\n",
       "</div>"
      ],
      "text/plain": [
       "       2019 Age-adjusted Rate  2019 Number of Deaths\n",
       "count               51.000000              51.000000\n",
       "mean                23.139216            1384.901961\n",
       "std                 10.184009            1407.558557\n",
       "min                  8.700000              79.000000\n",
       "25%                 14.650000             379.500000\n",
       "50%                 21.100000             870.000000\n",
       "75%                 30.050000            1998.000000\n",
       "max                 52.800000            6198.000000"
      ]
     },
     "execution_count": 29,
     "metadata": {},
     "output_type": "execute_result"
    }
   ],
   "source": [
    "deaths2019.describe()"
   ]
  },
  {
   "cell_type": "code",
   "execution_count": 30,
   "id": "910918bc",
   "metadata": {
    "scrolled": true
   },
   "outputs": [
    {
     "data": {
      "text/html": [
       "<div>\n",
       "<style scoped>\n",
       "    .dataframe tbody tr th:only-of-type {\n",
       "        vertical-align: middle;\n",
       "    }\n",
       "\n",
       "    .dataframe tbody tr th {\n",
       "        vertical-align: top;\n",
       "    }\n",
       "\n",
       "    .dataframe thead th {\n",
       "        text-align: right;\n",
       "    }\n",
       "</style>\n",
       "<table border=\"1\" class=\"dataframe\">\n",
       "  <thead>\n",
       "    <tr style=\"text-align: right;\">\n",
       "      <th></th>\n",
       "      <th>Percent Change from 2018-2019</th>\n",
       "    </tr>\n",
       "  </thead>\n",
       "  <tbody>\n",
       "    <tr>\n",
       "      <th>count</th>\n",
       "      <td>51.000000</td>\n",
       "    </tr>\n",
       "    <tr>\n",
       "      <th>mean</th>\n",
       "      <td>7.096078</td>\n",
       "    </tr>\n",
       "    <tr>\n",
       "      <th>std</th>\n",
       "      <td>11.968709</td>\n",
       "    </tr>\n",
       "    <tr>\n",
       "      <th>min</th>\n",
       "      <td>-14.000000</td>\n",
       "    </tr>\n",
       "    <tr>\n",
       "      <th>25%</th>\n",
       "      <td>-1.250000</td>\n",
       "    </tr>\n",
       "    <tr>\n",
       "      <th>50%</th>\n",
       "      <td>6.800000</td>\n",
       "    </tr>\n",
       "    <tr>\n",
       "      <th>75%</th>\n",
       "      <td>13.050000</td>\n",
       "    </tr>\n",
       "    <tr>\n",
       "      <th>max</th>\n",
       "      <td>52.200000</td>\n",
       "    </tr>\n",
       "  </tbody>\n",
       "</table>\n",
       "</div>"
      ],
      "text/plain": [
       "       Percent Change from 2018-2019\n",
       "count                      51.000000\n",
       "mean                        7.096078\n",
       "std                        11.968709\n",
       "min                       -14.000000\n",
       "25%                        -1.250000\n",
       "50%                         6.800000\n",
       "75%                        13.050000\n",
       "max                        52.200000"
      ]
     },
     "execution_count": 30,
     "metadata": {},
     "output_type": "execute_result"
    }
   ],
   "source": [
    "deathchange.describe()"
   ]
  },
  {
   "cell_type": "code",
   "execution_count": 31,
   "id": "257daf0f",
   "metadata": {
    "scrolled": true
   },
   "outputs": [
    {
     "data": {
      "text/html": [
       "<div>\n",
       "<style scoped>\n",
       "    .dataframe tbody tr th:only-of-type {\n",
       "        vertical-align: middle;\n",
       "    }\n",
       "\n",
       "    .dataframe tbody tr th {\n",
       "        vertical-align: top;\n",
       "    }\n",
       "\n",
       "    .dataframe thead th {\n",
       "        text-align: right;\n",
       "    }\n",
       "</style>\n",
       "<table border=\"1\" class=\"dataframe\">\n",
       "  <thead>\n",
       "    <tr style=\"text-align: right;\">\n",
       "      <th></th>\n",
       "      <th>Year</th>\n",
       "      <th>Deaths</th>\n",
       "    </tr>\n",
       "  </thead>\n",
       "  <tbody>\n",
       "    <tr>\n",
       "      <th>count</th>\n",
       "      <td>22.000000</td>\n",
       "      <td>22.000000</td>\n",
       "    </tr>\n",
       "    <tr>\n",
       "      <th>mean</th>\n",
       "      <td>2009.500000</td>\n",
       "      <td>42392.500000</td>\n",
       "    </tr>\n",
       "    <tr>\n",
       "      <th>std</th>\n",
       "      <td>6.493587</td>\n",
       "      <td>19800.352887</td>\n",
       "    </tr>\n",
       "    <tr>\n",
       "      <th>min</th>\n",
       "      <td>1999.000000</td>\n",
       "      <td>16849.000000</td>\n",
       "    </tr>\n",
       "    <tr>\n",
       "      <th>25%</th>\n",
       "      <td>2004.250000</td>\n",
       "      <td>28021.250000</td>\n",
       "    </tr>\n",
       "    <tr>\n",
       "      <th>50%</th>\n",
       "      <td>2009.500000</td>\n",
       "      <td>37666.500000</td>\n",
       "    </tr>\n",
       "    <tr>\n",
       "      <th>75%</th>\n",
       "      <td>2014.750000</td>\n",
       "      <td>51066.750000</td>\n",
       "    </tr>\n",
       "    <tr>\n",
       "      <th>max</th>\n",
       "      <td>2020.000000</td>\n",
       "      <td>91799.000000</td>\n",
       "    </tr>\n",
       "  </tbody>\n",
       "</table>\n",
       "</div>"
      ],
      "text/plain": [
       "              Year        Deaths\n",
       "count    22.000000     22.000000\n",
       "mean   2009.500000  42392.500000\n",
       "std       6.493587  19800.352887\n",
       "min    1999.000000  16849.000000\n",
       "25%    2004.250000  28021.250000\n",
       "50%    2009.500000  37666.500000\n",
       "75%    2014.750000  51066.750000\n",
       "max    2020.000000  91799.000000"
      ]
     },
     "execution_count": 31,
     "metadata": {},
     "output_type": "execute_result"
    }
   ],
   "source": [
    "deathstimeline.describe()"
   ]
  },
  {
   "cell_type": "code",
   "execution_count": 32,
   "id": "973bcc2e",
   "metadata": {},
   "outputs": [
    {
     "data": {
      "text/html": [
       "<div>\n",
       "<style scoped>\n",
       "    .dataframe tbody tr th:only-of-type {\n",
       "        vertical-align: middle;\n",
       "    }\n",
       "\n",
       "    .dataframe tbody tr th {\n",
       "        vertical-align: top;\n",
       "    }\n",
       "\n",
       "    .dataframe thead th {\n",
       "        text-align: right;\n",
       "    }\n",
       "</style>\n",
       "<table border=\"1\" class=\"dataframe\">\n",
       "  <thead>\n",
       "    <tr style=\"text-align: right;\">\n",
       "      <th></th>\n",
       "      <th>Year</th>\n",
       "      <th>Deaths</th>\n",
       "    </tr>\n",
       "  </thead>\n",
       "  <tbody>\n",
       "    <tr>\n",
       "      <th>count</th>\n",
       "      <td>88.000000</td>\n",
       "      <td>88.000000</td>\n",
       "    </tr>\n",
       "    <tr>\n",
       "      <th>mean</th>\n",
       "      <td>2009.500000</td>\n",
       "      <td>23428.125000</td>\n",
       "    </tr>\n",
       "    <tr>\n",
       "      <th>std</th>\n",
       "      <td>6.380646</td>\n",
       "      <td>18750.173308</td>\n",
       "    </tr>\n",
       "    <tr>\n",
       "      <th>min</th>\n",
       "      <td>1999.000000</td>\n",
       "      <td>2057.000000</td>\n",
       "    </tr>\n",
       "    <tr>\n",
       "      <th>25%</th>\n",
       "      <td>2004.000000</td>\n",
       "      <td>9098.500000</td>\n",
       "    </tr>\n",
       "    <tr>\n",
       "      <th>50%</th>\n",
       "      <td>2009.500000</td>\n",
       "      <td>17132.000000</td>\n",
       "    </tr>\n",
       "    <tr>\n",
       "      <th>75%</th>\n",
       "      <td>2015.000000</td>\n",
       "      <td>33424.500000</td>\n",
       "    </tr>\n",
       "    <tr>\n",
       "      <th>max</th>\n",
       "      <td>2020.000000</td>\n",
       "      <td>91799.000000</td>\n",
       "    </tr>\n",
       "  </tbody>\n",
       "</table>\n",
       "</div>"
      ],
      "text/plain": [
       "              Year        Deaths\n",
       "count    88.000000     88.000000\n",
       "mean   2009.500000  23428.125000\n",
       "std       6.380646  18750.173308\n",
       "min    1999.000000   2057.000000\n",
       "25%    2004.000000   9098.500000\n",
       "50%    2009.500000  17132.000000\n",
       "75%    2015.000000  33424.500000\n",
       "max    2020.000000  91799.000000"
      ]
     },
     "execution_count": 32,
     "metadata": {},
     "output_type": "execute_result"
    }
   ],
   "source": [
    "opioidtimeline.describe()"
   ]
  },
  {
   "cell_type": "code",
   "execution_count": 33,
   "id": "40c8bae6",
   "metadata": {},
   "outputs": [
    {
     "data": {
      "image/png": "[encoded data removed]",
      "text/plain": [
       "<Figure size 432x288 with 1 Axes>"
      ]
     },
     "metadata": {},
     "output_type": "display_data"
    }
   ],
   "source": [
    "deaths2018.boxplot(column=['2018 Number of Deaths']);"
   ]
  },
  {
   "cell_type": "code",
   "execution_count": 34,
   "id": "443b72da",
   "metadata": {
    "scrolled": true
   },
   "outputs": [
    {
     "data": {
      "image/png": "[encoded data removed]",
      "text/plain": [
       "<Figure size 432x288 with 1 Axes>"
      ]
     },
     "metadata": {},
     "output_type": "display_data"
    }
   ],
   "source": [
    "deaths2019.boxplot(column=['2019 Number of Deaths']);"
   ]
  },
  {
   "cell_type": "code",
   "execution_count": 35,
   "id": "c54935c8",
   "metadata": {},
   "outputs": [
    {
     "data": {
      "image/png": "[encoded data removed]",
      "text/plain": [
       "<Figure size 432x288 with 1 Axes>"
      ]
     },
     "metadata": {},
     "output_type": "display_data"
    }
   ],
   "source": [
    "deathstimeline.boxplot(column=['Deaths']);"
   ]
  },
  {
   "cell_type": "code",
   "execution_count": 36,
   "id": "697a0c5a",
   "metadata": {},
   "outputs": [
    {
     "data": {
      "text/plain": [
       "(51, 4)"
      ]
     },
     "execution_count": 36,
     "metadata": {},
     "output_type": "execute_result"
    }
   ],
   "source": [
    "deaths2018.shape"
   ]
  },
  {
   "cell_type": "code",
   "execution_count": 37,
   "id": "ac67da14",
   "metadata": {},
   "outputs": [
    {
     "data": {
      "text/plain": [
       "(51, 4)"
      ]
     },
     "execution_count": 37,
     "metadata": {},
     "output_type": "execute_result"
    }
   ],
   "source": [
    "deaths2019.shape"
   ]
  },
  {
   "cell_type": "code",
   "execution_count": 38,
   "id": "0efbe869",
   "metadata": {},
   "outputs": [
    {
     "data": {
      "text/plain": [
       "(51, 3)"
      ]
     },
     "execution_count": 38,
     "metadata": {},
     "output_type": "execute_result"
    }
   ],
   "source": [
    "deathchange.shape"
   ]
  },
  {
   "cell_type": "code",
   "execution_count": 39,
   "id": "a68f5fb0",
   "metadata": {
    "scrolled": true
   },
   "outputs": [
    {
     "data": {
      "text/plain": [
       "(22, 2)"
      ]
     },
     "execution_count": 39,
     "metadata": {},
     "output_type": "execute_result"
    }
   ],
   "source": [
    "deathstimeline.shape"
   ]
  },
  {
   "cell_type": "code",
   "execution_count": 40,
   "id": "e0f6746a",
   "metadata": {},
   "outputs": [
    {
     "data": {
      "text/plain": [
       "(88, 4)"
      ]
     },
     "execution_count": 40,
     "metadata": {},
     "output_type": "execute_result"
    }
   ],
   "source": [
    "opioidtimeline.shape"
   ]
  },
  {
   "cell_type": "markdown",
   "id": "1cb56026",
   "metadata": {},
   "source": [
    "The deaths2018 and deaths2019 dataframes (datasets) are the same shape so the data will be comparable."
   ]
  },
  {
   "cell_type": "markdown",
   "id": "63750ad4",
   "metadata": {},
   "source": [
    "## Statistical Analysis"
   ]
  },
  {
   "cell_type": "markdown",
   "id": "974fd722",
   "metadata": {},
   "source": [
    "Hypothesis: Deaths by drug overdose has increased from 2018 to 2019 in the U.S."
   ]
  },
  {
   "cell_type": "code",
   "execution_count": 41,
   "id": "af6220d3",
   "metadata": {},
   "outputs": [
    {
     "name": "stdout",
     "output_type": "stream",
     "text": [
      "Number of deaths in the U.S. from drug overdose in 2018: 67367.0\n"
     ]
    }
   ],
   "source": [
    "deathsin2018 = deaths2018['2018 Number of Deaths'].sum()\n",
    "print(f'Number of deaths in the U.S. from drug overdose in 2018: {deathsin2018}')"
   ]
  },
  {
   "cell_type": "code",
   "execution_count": 42,
   "id": "9f0dc8d5",
   "metadata": {},
   "outputs": [
    {
     "name": "stdout",
     "output_type": "stream",
     "text": [
      "Number of deaths in the U.S. from drug overdose in 2019: 70630.0\n"
     ]
    }
   ],
   "source": [
    "deathsin2019 = deaths2019['2019 Number of Deaths'].sum()\n",
    "print(f'Number of deaths in the U.S. from drug overdose in 2019: {deathsin2019}')"
   ]
  },
  {
   "cell_type": "markdown",
   "id": "4192b664",
   "metadata": {},
   "source": [
    "From the analysis above we can see that there is an increase of 3,263 deaths from 2018 to 2019 in the U.S."
   ]
  },
  {
   "cell_type": "markdown",
   "id": "b3a06649",
   "metadata": {},
   "source": [
    "#### Linear Regression"
   ]
  },
  {
   "cell_type": "code",
   "execution_count": 43,
   "id": "b07a00a8",
   "metadata": {},
   "outputs": [],
   "source": [
    "data = pd.read_csv('DODRTimeline.csv')  \n",
    "X = data.iloc[:, 0].values.reshape(-1, 1)  # values converts it into a numpy array\n",
    "Y = data.iloc[:, 1].values.reshape(-1, 1)  \n",
    "linear_regressor = LinearRegression()  \n",
    "linear_regressor.fit(X, Y) \n",
    "Y_pred = linear_regressor.predict(X)  "
   ]
  },
  {
   "cell_type": "code",
   "execution_count": 44,
   "id": "cc79f413",
   "metadata": {},
   "outputs": [
    {
     "data": {
      "image/png": "[encoded data removed]",
      "text/plain": [
       "<Figure size 432x288 with 1 Axes>"
      ]
     },
     "metadata": {},
     "output_type": "display_data"
    }
   ],
   "source": [
    "plt.scatter(X,Y)\n",
    "plt.plot(X,Y_pred, color='red')\n",
    "plt.xlabel('Year')\n",
    "plt.ylabel('Deaths')\n",
    "plt.title('Linear Regression for drug overdose deaths 1999-2020')\n",
    "plt.show()"
   ]
  },
  {
   "cell_type": "code",
   "execution_count": 45,
   "id": "99dde292",
   "metadata": {},
   "outputs": [
    {
     "data": {
      "text/html": [
       "<div>\n",
       "<style scoped>\n",
       "    .dataframe tbody tr th:only-of-type {\n",
       "        vertical-align: middle;\n",
       "    }\n",
       "\n",
       "    .dataframe tbody tr th {\n",
       "        vertical-align: top;\n",
       "    }\n",
       "\n",
       "    .dataframe thead th {\n",
       "        text-align: right;\n",
       "    }\n",
       "</style>\n",
       "<table border=\"1\" class=\"dataframe\">\n",
       "  <thead>\n",
       "    <tr style=\"text-align: right;\">\n",
       "      <th></th>\n",
       "      <th>Year</th>\n",
       "      <th>Deaths</th>\n",
       "    </tr>\n",
       "  </thead>\n",
       "  <tbody>\n",
       "    <tr>\n",
       "      <th>count</th>\n",
       "      <td>22.000000</td>\n",
       "      <td>22.000000</td>\n",
       "    </tr>\n",
       "    <tr>\n",
       "      <th>mean</th>\n",
       "      <td>2009.500000</td>\n",
       "      <td>42392.500000</td>\n",
       "    </tr>\n",
       "    <tr>\n",
       "      <th>std</th>\n",
       "      <td>6.493587</td>\n",
       "      <td>19800.352887</td>\n",
       "    </tr>\n",
       "    <tr>\n",
       "      <th>min</th>\n",
       "      <td>1999.000000</td>\n",
       "      <td>16849.000000</td>\n",
       "    </tr>\n",
       "    <tr>\n",
       "      <th>25%</th>\n",
       "      <td>2004.250000</td>\n",
       "      <td>28021.250000</td>\n",
       "    </tr>\n",
       "    <tr>\n",
       "      <th>50%</th>\n",
       "      <td>2009.500000</td>\n",
       "      <td>37666.500000</td>\n",
       "    </tr>\n",
       "    <tr>\n",
       "      <th>75%</th>\n",
       "      <td>2014.750000</td>\n",
       "      <td>51066.750000</td>\n",
       "    </tr>\n",
       "    <tr>\n",
       "      <th>max</th>\n",
       "      <td>2020.000000</td>\n",
       "      <td>91799.000000</td>\n",
       "    </tr>\n",
       "  </tbody>\n",
       "</table>\n",
       "</div>"
      ],
      "text/plain": [
       "              Year        Deaths\n",
       "count    22.000000     22.000000\n",
       "mean   2009.500000  42392.500000\n",
       "std       6.493587  19800.352887\n",
       "min    1999.000000  16849.000000\n",
       "25%    2004.250000  28021.250000\n",
       "50%    2009.500000  37666.500000\n",
       "75%    2014.750000  51066.750000\n",
       "max    2020.000000  91799.000000"
      ]
     },
     "execution_count": 45,
     "metadata": {},
     "output_type": "execute_result"
    }
   ],
   "source": [
    "deathstimeline.describe()"
   ]
  },
  {
   "cell_type": "markdown",
   "id": "60a53bf6",
   "metadata": {},
   "source": [
    "#### P-value"
   ]
  },
  {
   "cell_type": "markdown",
   "id": "0afd5ba0",
   "metadata": {},
   "source": [
    "The p-value is used to help support or reject the null hypothesis."
   ]
  },
  {
   "cell_type": "code",
   "execution_count": 108,
   "id": "d1710b29",
   "metadata": {},
   "outputs": [
    {
     "name": "stdout",
     "output_type": "stream",
     "text": [
      "Ttest_1sampResult(statistic=array([-0.76461728]), pvalue=array([0.45300659]))\n"
     ]
    }
   ],
   "source": [
    "from scipy import stats\n",
    "rvs = stats.norm.rvs(loc = 42392.5, scale = 19800.35, size =(22,1)) # loc = Deaths mean, scale = Deaths std\n",
    "print(stats.ttest_1samp(rvs,42392.5)) # Deaths mean"
   ]
  },
  {
   "cell_type": "markdown",
   "id": "59128863",
   "metadata": {},
   "source": [
    "#### R squared"
   ]
  },
  {
   "cell_type": "markdown",
   "id": "2b677fa6",
   "metadata": {},
   "source": [
    "The squared value is used to determine how close the data points are to the regression line. The r squared values range from 0 to 1, the closer the r squared value is to 1 means that there is a positive linear relationship between the two variables. "
   ]
  },
  {
   "cell_type": "code",
   "execution_count": 47,
   "id": "b97ec838",
   "metadata": {},
   "outputs": [
    {
     "name": "stdout",
     "output_type": "stream",
     "text": [
      "r squared value: 0.9053522694408465\n"
     ]
    }
   ],
   "source": [
    "x_values = [1999,2000,2001,2002,2003,2004,2005,2006,2007,2008,2009,2010,2011,2012,2013,2014,2015,2016,2017,2018,2019,2020]\n",
    "y_values = [16849,17416,19394,23518,25785,27424,29813,34425,36010,36450,37004,38329,41340,41502,43982,47055,52404,63632,70237,67637,70630,91799]\n",
    "\n",
    "correlation_matrix = np.corrcoef(x_values, y_values)\n",
    "correlation_xy = correlation_matrix[0,1]\n",
    "r_squared = correlation_xy**2\n",
    "\n",
    "print(f'r squared value: {r_squared}')"
   ]
  },
  {
   "cell_type": "markdown",
   "id": "410184d5",
   "metadata": {},
   "source": [
    "#### Correlation"
   ]
  },
  {
   "cell_type": "code",
   "execution_count": 48,
   "id": "5539d617",
   "metadata": {},
   "outputs": [
    {
     "data": {
      "text/html": [
       "<div>\n",
       "<style scoped>\n",
       "    .dataframe tbody tr th:only-of-type {\n",
       "        vertical-align: middle;\n",
       "    }\n",
       "\n",
       "    .dataframe tbody tr th {\n",
       "        vertical-align: top;\n",
       "    }\n",
       "\n",
       "    .dataframe thead th {\n",
       "        text-align: right;\n",
       "    }\n",
       "</style>\n",
       "<table border=\"1\" class=\"dataframe\">\n",
       "  <thead>\n",
       "    <tr style=\"text-align: right;\">\n",
       "      <th></th>\n",
       "      <th>Year</th>\n",
       "      <th>Deaths</th>\n",
       "    </tr>\n",
       "  </thead>\n",
       "  <tbody>\n",
       "    <tr>\n",
       "      <th>Year</th>\n",
       "      <td>1.0000</td>\n",
       "      <td>0.9515</td>\n",
       "    </tr>\n",
       "    <tr>\n",
       "      <th>Deaths</th>\n",
       "      <td>0.9515</td>\n",
       "      <td>1.0000</td>\n",
       "    </tr>\n",
       "  </tbody>\n",
       "</table>\n",
       "</div>"
      ],
      "text/plain": [
       "          Year  Deaths\n",
       "Year    1.0000  0.9515\n",
       "Deaths  0.9515  1.0000"
      ]
     },
     "execution_count": 48,
     "metadata": {},
     "output_type": "execute_result"
    }
   ],
   "source": [
    "deathstimeline[['Year', 'Deaths']].corr()"
   ]
  },
  {
   "cell_type": "markdown",
   "id": "d5ee7aeb",
   "metadata": {},
   "source": [
    "## Project Findings"
   ]
  },
  {
   "cell_type": "code",
   "execution_count": 49,
   "id": "3da45f47",
   "metadata": {},
   "outputs": [
    {
     "data": {
      "image/png": "[encoded data removed]",
      "text/plain": [
       "<Figure size 1080x720 with 1 Axes>"
      ]
     },
     "metadata": {},
     "output_type": "display_data"
    }
   ],
   "source": [
    "deaths2018.plot.bar(x='Location', y='2018 Number of Deaths', legend=False,figsize=(15,10));\n",
    "plt.ylabel('Number of Deaths');\n",
    "plt.title('Number of drug overdose deaths per state in 2018');"
   ]
  },
  {
   "cell_type": "markdown",
   "id": "75c73366",
   "metadata": {},
   "source": [
    "The graph above shows the number of deaths from drug overdose per state in the U.S. in 2018. "
   ]
  },
  {
   "cell_type": "code",
   "execution_count": 50,
   "id": "fc8e5681",
   "metadata": {},
   "outputs": [
    {
     "data": {
      "image/png": "[encoded data removed]",
      "text/plain": [
       "<Figure size 1080x720 with 1 Axes>"
      ]
     },
     "metadata": {},
     "output_type": "display_data"
    }
   ],
   "source": [
    "deaths2019.plot.bar(x='Location', y='2019 Number of Deaths', legend=False,figsize=(15,10));\n",
    "plt.ylabel('Number of Deaths');\n",
    "plt.title('Number of drug overdose deaths per state in 2019');"
   ]
  },
  {
   "cell_type": "markdown",
   "id": "a8997c95",
   "metadata": {},
   "source": [
    "The graph above shows the number of deaths from drug overdose per state in the U.S. in 2019."
   ]
  },
  {
   "cell_type": "code",
   "execution_count": 51,
   "id": "bb2e7236",
   "metadata": {},
   "outputs": [
    {
     "name": "stderr",
     "output_type": "stream",
     "text": [
      "*c* argument looks like a single numeric RGB or RGBA sequence, which should be avoided as value-mapping will have precedence in case its length matches with *x* & *y*.  Please use the *color* keyword-argument or provide a 2D array with a single row if you intend to specify the same RGB or RGBA value for all points.\n"
     ]
    },
    {
     "data": {
      "image/png": "[encoded data removed]",
      "text/plain": [
       "<Figure size 1080x720 with 1 Axes>"
      ]
     },
     "metadata": {},
     "output_type": "display_data"
    }
   ],
   "source": [
    "deathchange.plot.scatter(x='Location', y='Statistically Significant Change ', figsize=(15,10))\n",
    "plt.title('Changes in drug overdose deaths from 2018 to 2019 per state')\n",
    "plt.xticks(rotation=90)\n",
    "plt.show()"
   ]
  },
  {
   "cell_type": "markdown",
   "id": "8770b75c",
   "metadata": {},
   "source": [
    "The scatterplot above shows the differences in deaths per state from 2018-2019. The states can have an increase, decrease, or stable rate of overdose deaths."
   ]
  },
  {
   "cell_type": "code",
   "execution_count": 52,
   "id": "9f905cec",
   "metadata": {},
   "outputs": [
    {
     "data": {
      "text/html": [
       "<div>\n",
       "<style scoped>\n",
       "    .dataframe tbody tr th:only-of-type {\n",
       "        vertical-align: middle;\n",
       "    }\n",
       "\n",
       "    .dataframe tbody tr th {\n",
       "        vertical-align: top;\n",
       "    }\n",
       "\n",
       "    .dataframe thead th {\n",
       "        text-align: right;\n",
       "    }\n",
       "</style>\n",
       "<table border=\"1\" class=\"dataframe\">\n",
       "  <thead>\n",
       "    <tr style=\"text-align: right;\">\n",
       "      <th></th>\n",
       "      <th>Location</th>\n",
       "      <th>Statistically Significant Change</th>\n",
       "      <th>Percent Change from 2018-2019</th>\n",
       "    </tr>\n",
       "  </thead>\n",
       "  <tbody>\n",
       "    <tr>\n",
       "      <th>24</th>\n",
       "      <td>Mississippi</td>\n",
       "      <td>Increase</td>\n",
       "      <td>25.9</td>\n",
       "    </tr>\n",
       "    <tr>\n",
       "      <th>23</th>\n",
       "      <td>Minnesota</td>\n",
       "      <td>Increase</td>\n",
       "      <td>23.5</td>\n",
       "    </tr>\n",
       "    <tr>\n",
       "      <th>8</th>\n",
       "      <td>District of Columbia</td>\n",
       "      <td>Increase</td>\n",
       "      <td>22.0</td>\n",
       "    </tr>\n",
       "    <tr>\n",
       "      <th>15</th>\n",
       "      <td>Iowa</td>\n",
       "      <td>Increase</td>\n",
       "      <td>19.8</td>\n",
       "    </tr>\n",
       "    <tr>\n",
       "      <th>4</th>\n",
       "      <td>California</td>\n",
       "      <td>Increase</td>\n",
       "      <td>17.2</td>\n",
       "    </tr>\n",
       "  </tbody>\n",
       "</table>\n",
       "</div>"
      ],
      "text/plain": [
       "                Location Statistically Significant Change   \\\n",
       "24           Mississippi                          Increase   \n",
       "23             Minnesota                          Increase   \n",
       "8   District of Columbia                          Increase   \n",
       "15                  Iowa                          Increase   \n",
       "4             California                          Increase   \n",
       "\n",
       "    Percent Change from 2018-2019  \n",
       "24                           25.9  \n",
       "23                           23.5  \n",
       "8                            22.0  \n",
       "15                           19.8  \n",
       "4                            17.2  "
      ]
     },
     "execution_count": 52,
     "metadata": {},
     "output_type": "execute_result"
    }
   ],
   "source": [
    "top5inc = deathchange[deathchange['Statistically Significant Change '] == 'Increase'].sort_values(by=['Percent Change from 2018-2019'], ascending=False).head(5)\n",
    "top5inc"
   ]
  },
  {
   "cell_type": "markdown",
   "id": "73935d75",
   "metadata": {},
   "source": [
    "The table above shows the top 5 states that had an increase of drug overdose deaths from 2018-2019."
   ]
  },
  {
   "cell_type": "code",
   "execution_count": 53,
   "id": "69631818",
   "metadata": {},
   "outputs": [
    {
     "data": {
      "image/png": "[encoded data removed]",
      "text/plain": [
       "<Figure size 1080x720 with 1 Axes>"
      ]
     },
     "metadata": {},
     "output_type": "display_data"
    }
   ],
   "source": [
    "top5inc.plot.bar(x='Location', y='Percent Change from 2018-2019', legend=False, figsize=(15,10));\n",
    "plt.title('Top five states for increasing drug overdose deaths from 2018-2019');\n",
    "plt.ylabel('Percent increase');\n",
    "plt.xlabel('State');\n",
    "plt.xticks(rotation=45);"
   ]
  },
  {
   "cell_type": "markdown",
   "id": "7b750f13",
   "metadata": {},
   "source": [
    "The bar chart above displays the top 5 states for percent increae of drug overdose deaths from 2018-2019. "
   ]
  },
  {
   "cell_type": "code",
   "execution_count": 54,
   "id": "ba8c661e",
   "metadata": {},
   "outputs": [
    {
     "data": {
      "text/html": [
       "<div>\n",
       "<style scoped>\n",
       "    .dataframe tbody tr th:only-of-type {\n",
       "        vertical-align: middle;\n",
       "    }\n",
       "\n",
       "    .dataframe tbody tr th {\n",
       "        vertical-align: top;\n",
       "    }\n",
       "\n",
       "    .dataframe thead th {\n",
       "        text-align: right;\n",
       "    }\n",
       "</style>\n",
       "<table border=\"1\" class=\"dataframe\">\n",
       "  <thead>\n",
       "    <tr style=\"text-align: right;\">\n",
       "      <th></th>\n",
       "      <th>Location</th>\n",
       "      <th>Statistically Significant Change</th>\n",
       "      <th>Percent Change from 2018-2019</th>\n",
       "    </tr>\n",
       "  </thead>\n",
       "  <tbody>\n",
       "    <tr>\n",
       "      <th>22</th>\n",
       "      <td>Michigan</td>\n",
       "      <td>Decrease</td>\n",
       "      <td>-8.3</td>\n",
       "    </tr>\n",
       "    <tr>\n",
       "      <th>3</th>\n",
       "      <td>Arkansas</td>\n",
       "      <td>Decrease</td>\n",
       "      <td>-14.0</td>\n",
       "    </tr>\n",
       "  </tbody>\n",
       "</table>\n",
       "</div>"
      ],
      "text/plain": [
       "    Location Statistically Significant Change   Percent Change from 2018-2019\n",
       "22  Michigan                          Decrease                           -8.3\n",
       "3   Arkansas                          Decrease                          -14.0"
      ]
     },
     "execution_count": 54,
     "metadata": {},
     "output_type": "execute_result"
    }
   ],
   "source": [
    "top5dec = deathchange[deathchange['Statistically Significant Change '] == 'Decrease'].sort_values(by=['Percent Change from 2018-2019'], ascending=False).head(5)\n",
    "top5dec"
   ]
  },
  {
   "cell_type": "markdown",
   "id": "4d18cd10",
   "metadata": {},
   "source": [
    "The table above lists the states that had a decrease in overdose deaths from 2018-2019 in the U.S."
   ]
  },
  {
   "cell_type": "code",
   "execution_count": 55,
   "id": "30f632f0",
   "metadata": {},
   "outputs": [
    {
     "data": {
      "image/png": "[encoded data removed]",
      "text/plain": [
       "<Figure size 1080x720 with 1 Axes>"
      ]
     },
     "metadata": {},
     "output_type": "display_data"
    }
   ],
   "source": [
    "top5dec.plot.bar(x='Location', y='Percent Change from 2018-2019', legend=False, figsize=(15,10));\n",
    "plt.title('Decrease in drug overdose deaths per state from 2018-2019');\n",
    "plt.ylabel('Percent change');\n",
    "plt.xticks(rotation=360);\n",
    "plt.xlabel('State');"
   ]
  },
  {
   "cell_type": "markdown",
   "id": "291796b1",
   "metadata": {},
   "source": [
    "The bar graph above displays the two states that had a decrease in overdose deaths in terms of percentage. "
   ]
  },
  {
   "cell_type": "markdown",
   "id": "83c57a18",
   "metadata": {},
   "source": [
    "The table above lists all of the states that had a 'Stable' value in drug overdose deaths"
   ]
  },
  {
   "cell_type": "code",
   "execution_count": 56,
   "id": "23298730",
   "metadata": {},
   "outputs": [
    {
     "data": {
      "text/html": [
       "<div>\n",
       "<style scoped>\n",
       "    .dataframe tbody tr th:only-of-type {\n",
       "        vertical-align: middle;\n",
       "    }\n",
       "\n",
       "    .dataframe tbody tr th {\n",
       "        vertical-align: top;\n",
       "    }\n",
       "\n",
       "    .dataframe thead th {\n",
       "        text-align: right;\n",
       "    }\n",
       "</style>\n",
       "<table border=\"1\" class=\"dataframe\">\n",
       "  <thead>\n",
       "    <tr style=\"text-align: right;\">\n",
       "      <th></th>\n",
       "      <th>Location</th>\n",
       "      <th>Statistically Significant Change</th>\n",
       "      <th>Percent Change from 2018-2019</th>\n",
       "    </tr>\n",
       "  </thead>\n",
       "  <tbody>\n",
       "    <tr>\n",
       "      <th>41</th>\n",
       "      <td>South Dakota</td>\n",
       "      <td>Stable</td>\n",
       "      <td>52.2</td>\n",
       "    </tr>\n",
       "    <tr>\n",
       "      <th>50</th>\n",
       "      <td>Wyoming</td>\n",
       "      <td>Stable</td>\n",
       "      <td>27.0</td>\n",
       "    </tr>\n",
       "    <tr>\n",
       "      <th>1</th>\n",
       "      <td>Alaska</td>\n",
       "      <td>Stable</td>\n",
       "      <td>21.9</td>\n",
       "    </tr>\n",
       "    <tr>\n",
       "      <th>27</th>\n",
       "      <td>Nebraska</td>\n",
       "      <td>Stable</td>\n",
       "      <td>17.6</td>\n",
       "    </tr>\n",
       "    <tr>\n",
       "      <th>26</th>\n",
       "      <td>Montana</td>\n",
       "      <td>Stable</td>\n",
       "      <td>15.6</td>\n",
       "    </tr>\n",
       "    <tr>\n",
       "      <th>16</th>\n",
       "      <td>Kansas</td>\n",
       "      <td>Stable</td>\n",
       "      <td>15.3</td>\n",
       "    </tr>\n",
       "    <tr>\n",
       "      <th>34</th>\n",
       "      <td>North Dakota</td>\n",
       "      <td>Stable</td>\n",
       "      <td>11.8</td>\n",
       "    </tr>\n",
       "    <tr>\n",
       "      <th>11</th>\n",
       "      <td>Hawaii</td>\n",
       "      <td>Stable</td>\n",
       "      <td>11.2</td>\n",
       "    </tr>\n",
       "    <tr>\n",
       "      <th>37</th>\n",
       "      <td>Oregon</td>\n",
       "      <td>Stable</td>\n",
       "      <td>11.1</td>\n",
       "    </tr>\n",
       "    <tr>\n",
       "      <th>7</th>\n",
       "      <td>Delaware</td>\n",
       "      <td>Stable</td>\n",
       "      <td>9.6</td>\n",
       "    </tr>\n",
       "    <tr>\n",
       "      <th>19</th>\n",
       "      <td>Maine</td>\n",
       "      <td>Stable</td>\n",
       "      <td>7.2</td>\n",
       "    </tr>\n",
       "    <tr>\n",
       "      <th>5</th>\n",
       "      <td>Colorado</td>\n",
       "      <td>Stable</td>\n",
       "      <td>7.1</td>\n",
       "    </tr>\n",
       "    <tr>\n",
       "      <th>46</th>\n",
       "      <td>Virginia</td>\n",
       "      <td>Stable</td>\n",
       "      <td>7.0</td>\n",
       "    </tr>\n",
       "    <tr>\n",
       "      <th>47</th>\n",
       "      <td>Washington</td>\n",
       "      <td>Stable</td>\n",
       "      <td>6.8</td>\n",
       "    </tr>\n",
       "    <tr>\n",
       "      <th>17</th>\n",
       "      <td>Kentucky</td>\n",
       "      <td>Stable</td>\n",
       "      <td>5.2</td>\n",
       "    </tr>\n",
       "    <tr>\n",
       "      <th>14</th>\n",
       "      <td>Indiana</td>\n",
       "      <td>Stable</td>\n",
       "      <td>3.9</td>\n",
       "    </tr>\n",
       "    <tr>\n",
       "      <th>43</th>\n",
       "      <td>Texas</td>\n",
       "      <td>Stable</td>\n",
       "      <td>3.8</td>\n",
       "    </tr>\n",
       "    <tr>\n",
       "      <th>12</th>\n",
       "      <td>Idaho</td>\n",
       "      <td>Stable</td>\n",
       "      <td>3.4</td>\n",
       "    </tr>\n",
       "    <tr>\n",
       "      <th>13</th>\n",
       "      <td>Illinois</td>\n",
       "      <td>Stable</td>\n",
       "      <td>2.8</td>\n",
       "    </tr>\n",
       "    <tr>\n",
       "      <th>20</th>\n",
       "      <td>Maryland</td>\n",
       "      <td>Stable</td>\n",
       "      <td>2.7</td>\n",
       "    </tr>\n",
       "    <tr>\n",
       "      <th>48</th>\n",
       "      <td>West Virginia</td>\n",
       "      <td>Stable</td>\n",
       "      <td>2.5</td>\n",
       "    </tr>\n",
       "    <tr>\n",
       "      <th>40</th>\n",
       "      <td>South Carolina</td>\n",
       "      <td>Stable</td>\n",
       "      <td>0.4</td>\n",
       "    </tr>\n",
       "    <tr>\n",
       "      <th>33</th>\n",
       "      <td>North Carolina</td>\n",
       "      <td>Stable</td>\n",
       "      <td>-0.4</td>\n",
       "    </tr>\n",
       "    <tr>\n",
       "      <th>10</th>\n",
       "      <td>Georgia</td>\n",
       "      <td>Stable</td>\n",
       "      <td>-0.8</td>\n",
       "    </tr>\n",
       "    <tr>\n",
       "      <th>32</th>\n",
       "      <td>New York</td>\n",
       "      <td>Stable</td>\n",
       "      <td>-1.1</td>\n",
       "    </tr>\n",
       "    <tr>\n",
       "      <th>38</th>\n",
       "      <td>Pennsylvania</td>\n",
       "      <td>Stable</td>\n",
       "      <td>-1.4</td>\n",
       "    </tr>\n",
       "    <tr>\n",
       "      <th>0</th>\n",
       "      <td>Alabama</td>\n",
       "      <td>Stable</td>\n",
       "      <td>-1.8</td>\n",
       "    </tr>\n",
       "    <tr>\n",
       "      <th>39</th>\n",
       "      <td>Rhode Island</td>\n",
       "      <td>Stable</td>\n",
       "      <td>-2.0</td>\n",
       "    </tr>\n",
       "    <tr>\n",
       "      <th>21</th>\n",
       "      <td>Massachusetts</td>\n",
       "      <td>Stable</td>\n",
       "      <td>-2.1</td>\n",
       "    </tr>\n",
       "    <tr>\n",
       "      <th>25</th>\n",
       "      <td>Missouri</td>\n",
       "      <td>Stable</td>\n",
       "      <td>-2.2</td>\n",
       "    </tr>\n",
       "    <tr>\n",
       "      <th>30</th>\n",
       "      <td>New Jersey</td>\n",
       "      <td>Stable</td>\n",
       "      <td>-4.2</td>\n",
       "    </tr>\n",
       "    <tr>\n",
       "      <th>28</th>\n",
       "      <td>Nevada</td>\n",
       "      <td>Stable</td>\n",
       "      <td>-5.2</td>\n",
       "    </tr>\n",
       "    <tr>\n",
       "      <th>36</th>\n",
       "      <td>Oklahoma</td>\n",
       "      <td>Stable</td>\n",
       "      <td>-9.2</td>\n",
       "    </tr>\n",
       "    <tr>\n",
       "      <th>45</th>\n",
       "      <td>Vermont</td>\n",
       "      <td>Stable</td>\n",
       "      <td>-10.5</td>\n",
       "    </tr>\n",
       "    <tr>\n",
       "      <th>29</th>\n",
       "      <td>New Hampshire</td>\n",
       "      <td>Stable</td>\n",
       "      <td>-10.6</td>\n",
       "    </tr>\n",
       "    <tr>\n",
       "      <th>44</th>\n",
       "      <td>Utah</td>\n",
       "      <td>Stable</td>\n",
       "      <td>-10.8</td>\n",
       "    </tr>\n",
       "  </tbody>\n",
       "</table>\n",
       "</div>"
      ],
      "text/plain": [
       "          Location Statistically Significant Change   \\\n",
       "41    South Dakota                            Stable   \n",
       "50         Wyoming                            Stable   \n",
       "1           Alaska                            Stable   \n",
       "27        Nebraska                            Stable   \n",
       "26         Montana                            Stable   \n",
       "16          Kansas                            Stable   \n",
       "34    North Dakota                            Stable   \n",
       "11          Hawaii                            Stable   \n",
       "37          Oregon                            Stable   \n",
       "7         Delaware                            Stable   \n",
       "19           Maine                            Stable   \n",
       "5         Colorado                            Stable   \n",
       "46        Virginia                            Stable   \n",
       "47      Washington                            Stable   \n",
       "17        Kentucky                            Stable   \n",
       "14         Indiana                            Stable   \n",
       "43           Texas                            Stable   \n",
       "12           Idaho                            Stable   \n",
       "13        Illinois                            Stable   \n",
       "20        Maryland                            Stable   \n",
       "48   West Virginia                            Stable   \n",
       "40  South Carolina                            Stable   \n",
       "33  North Carolina                            Stable   \n",
       "10         Georgia                            Stable   \n",
       "32        New York                            Stable   \n",
       "38    Pennsylvania                            Stable   \n",
       "0          Alabama                            Stable   \n",
       "39    Rhode Island                            Stable   \n",
       "21   Massachusetts                            Stable   \n",
       "25        Missouri                            Stable   \n",
       "30      New Jersey                            Stable   \n",
       "28          Nevada                            Stable   \n",
       "36        Oklahoma                            Stable   \n",
       "45         Vermont                            Stable   \n",
       "29   New Hampshire                            Stable   \n",
       "44            Utah                            Stable   \n",
       "\n",
       "    Percent Change from 2018-2019  \n",
       "41                           52.2  \n",
       "50                           27.0  \n",
       "1                            21.9  \n",
       "27                           17.6  \n",
       "26                           15.6  \n",
       "16                           15.3  \n",
       "34                           11.8  \n",
       "11                           11.2  \n",
       "37                           11.1  \n",
       "7                             9.6  \n",
       "19                            7.2  \n",
       "5                             7.1  \n",
       "46                            7.0  \n",
       "47                            6.8  \n",
       "17                            5.2  \n",
       "14                            3.9  \n",
       "43                            3.8  \n",
       "12                            3.4  \n",
       "13                            2.8  \n",
       "20                            2.7  \n",
       "48                            2.5  \n",
       "40                            0.4  \n",
       "33                           -0.4  \n",
       "10                           -0.8  \n",
       "32                           -1.1  \n",
       "38                           -1.4  \n",
       "0                            -1.8  \n",
       "39                           -2.0  \n",
       "21                           -2.1  \n",
       "25                           -2.2  \n",
       "30                           -4.2  \n",
       "28                           -5.2  \n",
       "36                           -9.2  \n",
       "45                          -10.5  \n",
       "29                          -10.6  \n",
       "44                          -10.8  "
      ]
     },
     "execution_count": 56,
     "metadata": {},
     "output_type": "execute_result"
    }
   ],
   "source": [
    "stable = deathchange[deathchange['Statistically Significant Change '] == 'Stable'].sort_values(by=['Percent Change from 2018-2019'], ascending=False)\n",
    "stable"
   ]
  },
  {
   "cell_type": "code",
   "execution_count": 57,
   "id": "66ee556f",
   "metadata": {
    "scrolled": true
   },
   "outputs": [
    {
     "data": {
      "text/html": [
       "<div>\n",
       "<style scoped>\n",
       "    .dataframe tbody tr th:only-of-type {\n",
       "        vertical-align: middle;\n",
       "    }\n",
       "\n",
       "    .dataframe tbody tr th {\n",
       "        vertical-align: top;\n",
       "    }\n",
       "\n",
       "    .dataframe thead th {\n",
       "        text-align: right;\n",
       "    }\n",
       "</style>\n",
       "<table border=\"1\" class=\"dataframe\">\n",
       "  <thead>\n",
       "    <tr style=\"text-align: right;\">\n",
       "      <th></th>\n",
       "      <th>Location</th>\n",
       "      <th>Statistically Significant Change</th>\n",
       "      <th>Percent Change from 2018-2019</th>\n",
       "    </tr>\n",
       "  </thead>\n",
       "  <tbody>\n",
       "    <tr>\n",
       "      <th>41</th>\n",
       "      <td>South Dakota</td>\n",
       "      <td>Stable</td>\n",
       "      <td>52.2</td>\n",
       "    </tr>\n",
       "    <tr>\n",
       "      <th>50</th>\n",
       "      <td>Wyoming</td>\n",
       "      <td>Stable</td>\n",
       "      <td>27.0</td>\n",
       "    </tr>\n",
       "    <tr>\n",
       "      <th>1</th>\n",
       "      <td>Alaska</td>\n",
       "      <td>Stable</td>\n",
       "      <td>21.9</td>\n",
       "    </tr>\n",
       "    <tr>\n",
       "      <th>27</th>\n",
       "      <td>Nebraska</td>\n",
       "      <td>Stable</td>\n",
       "      <td>17.6</td>\n",
       "    </tr>\n",
       "    <tr>\n",
       "      <th>26</th>\n",
       "      <td>Montana</td>\n",
       "      <td>Stable</td>\n",
       "      <td>15.6</td>\n",
       "    </tr>\n",
       "  </tbody>\n",
       "</table>\n",
       "</div>"
      ],
      "text/plain": [
       "        Location Statistically Significant Change   \\\n",
       "41  South Dakota                            Stable   \n",
       "50       Wyoming                            Stable   \n",
       "1         Alaska                            Stable   \n",
       "27      Nebraska                            Stable   \n",
       "26       Montana                            Stable   \n",
       "\n",
       "    Percent Change from 2018-2019  \n",
       "41                           52.2  \n",
       "50                           27.0  \n",
       "1                            21.9  \n",
       "27                           17.6  \n",
       "26                           15.6  "
      ]
     },
     "execution_count": 57,
     "metadata": {},
     "output_type": "execute_result"
    }
   ],
   "source": [
    "stable = stable.head()\n",
    "stable"
   ]
  },
  {
   "cell_type": "code",
   "execution_count": 58,
   "id": "d8de802e",
   "metadata": {},
   "outputs": [
    {
     "data": {
      "image/png": "[encoded data removed]",
      "text/plain": [
       "<Figure size 1080x720 with 1 Axes>"
      ]
     },
     "metadata": {},
     "output_type": "display_data"
    }
   ],
   "source": [
    "stable.plot.bar(x='Location', y='Percent Change from 2018-2019', legend=False, figsize=(15,10));\n",
    "plt.title('Top 5 stable states from 2018-2019');\n",
    "plt.ylabel('Percent change');\n",
    "plt.xticks(rotation=360);\n",
    "plt.xlabel('State');"
   ]
  },
  {
   "cell_type": "markdown",
   "id": "c49cdf05",
   "metadata": {},
   "source": [
    "#### Changes in drug overdose deaths in Arizona from 2018-2019"
   ]
  },
  {
   "cell_type": "code",
   "execution_count": 59,
   "id": "cd7078de",
   "metadata": {},
   "outputs": [
    {
     "data": {
      "text/plain": [
       "2    1670.0\n",
       "Name: 2018 Number of Deaths, dtype: float64"
      ]
     },
     "execution_count": 59,
     "metadata": {},
     "output_type": "execute_result"
    }
   ],
   "source": [
    "Az18 = deaths2018[deaths2018['Location'] == 'Arizona']['2018 Number of Deaths']\n",
    "Az18"
   ]
  },
  {
   "cell_type": "code",
   "execution_count": 60,
   "id": "cc26592f",
   "metadata": {},
   "outputs": [
    {
     "data": {
      "text/plain": [
       "2    1907.0\n",
       "Name: 2019 Number of Deaths, dtype: float64"
      ]
     },
     "execution_count": 60,
     "metadata": {},
     "output_type": "execute_result"
    }
   ],
   "source": [
    "Az19 = deaths2019[deaths2019['Location'] == 'Arizona']['2019 Number of Deaths']\n",
    "Az19"
   ]
  },
  {
   "cell_type": "code",
   "execution_count": 61,
   "id": "de8f3e1c",
   "metadata": {},
   "outputs": [
    {
     "data": {
      "text/plain": [
       "2    237.0\n",
       "dtype: float64"
      ]
     },
     "execution_count": 61,
     "metadata": {},
     "output_type": "execute_result"
    }
   ],
   "source": [
    "Arizonachange = Az19-Az18\n",
    "Arizonachange"
   ]
  },
  {
   "cell_type": "markdown",
   "id": "22f03432",
   "metadata": {},
   "source": [
    "There was an increase of 237 deaths in Arizona from 2018-2019"
   ]
  },
  {
   "cell_type": "code",
   "execution_count": 62,
   "id": "2c1dde0c",
   "metadata": {},
   "outputs": [
    {
     "data": {
      "text/html": [
       "<div>\n",
       "<style scoped>\n",
       "    .dataframe tbody tr th:only-of-type {\n",
       "        vertical-align: middle;\n",
       "    }\n",
       "\n",
       "    .dataframe tbody tr th {\n",
       "        vertical-align: top;\n",
       "    }\n",
       "\n",
       "    .dataframe thead th {\n",
       "        text-align: right;\n",
       "    }\n",
       "</style>\n",
       "<table border=\"1\" class=\"dataframe\">\n",
       "  <thead>\n",
       "    <tr style=\"text-align: right;\">\n",
       "      <th></th>\n",
       "      <th>Location</th>\n",
       "      <th>Range Category</th>\n",
       "      <th>2018 Age-adjusted Rate</th>\n",
       "      <th>2018 Number of Deaths</th>\n",
       "      <th>2019 Age-adjusted Rate</th>\n",
       "      <th>2019 Number of Deaths</th>\n",
       "    </tr>\n",
       "  </thead>\n",
       "  <tbody>\n",
       "    <tr>\n",
       "      <th>0</th>\n",
       "      <td>Alabama</td>\n",
       "      <td>16.1 to 18.5</td>\n",
       "      <td>16.6</td>\n",
       "      <td>775.0</td>\n",
       "      <td>16.3</td>\n",
       "      <td>768.0</td>\n",
       "    </tr>\n",
       "    <tr>\n",
       "      <th>1</th>\n",
       "      <td>Arizona</td>\n",
       "      <td>21.1 to 57.0</td>\n",
       "      <td>23.8</td>\n",
       "      <td>1670.0</td>\n",
       "      <td>26.8</td>\n",
       "      <td>1907.0</td>\n",
       "    </tr>\n",
       "    <tr>\n",
       "      <th>2</th>\n",
       "      <td>Colorado</td>\n",
       "      <td>16.1 to 18.5</td>\n",
       "      <td>16.8</td>\n",
       "      <td>995.0</td>\n",
       "      <td>18.0</td>\n",
       "      <td>1079.0</td>\n",
       "    </tr>\n",
       "    <tr>\n",
       "      <th>3</th>\n",
       "      <td>Connecticut</td>\n",
       "      <td>21.1 to 57.0</td>\n",
       "      <td>30.7</td>\n",
       "      <td>1069.0</td>\n",
       "      <td>34.7</td>\n",
       "      <td>1214.0</td>\n",
       "    </tr>\n",
       "    <tr>\n",
       "      <th>4</th>\n",
       "      <td>Delaware</td>\n",
       "      <td>21.1 to 57.0</td>\n",
       "      <td>43.8</td>\n",
       "      <td>401.0</td>\n",
       "      <td>48.0</td>\n",
       "      <td>435.0</td>\n",
       "    </tr>\n",
       "    <tr>\n",
       "      <th>5</th>\n",
       "      <td>Florida</td>\n",
       "      <td>21.1 to 57.0</td>\n",
       "      <td>22.8</td>\n",
       "      <td>4698.0</td>\n",
       "      <td>25.5</td>\n",
       "      <td>5268.0</td>\n",
       "    </tr>\n",
       "    <tr>\n",
       "      <th>6</th>\n",
       "      <td>Georgia</td>\n",
       "      <td>11.1 to 13.5</td>\n",
       "      <td>13.2</td>\n",
       "      <td>1404.0</td>\n",
       "      <td>13.1</td>\n",
       "      <td>1408.0</td>\n",
       "    </tr>\n",
       "    <tr>\n",
       "      <th>7</th>\n",
       "      <td>Hawaii</td>\n",
       "      <td>13.6 to 16.0</td>\n",
       "      <td>14.3</td>\n",
       "      <td>213.0</td>\n",
       "      <td>15.9</td>\n",
       "      <td>242.0</td>\n",
       "    </tr>\n",
       "    <tr>\n",
       "      <th>8</th>\n",
       "      <td>Idaho</td>\n",
       "      <td>13.6 to 16.0</td>\n",
       "      <td>14.6</td>\n",
       "      <td>250.0</td>\n",
       "      <td>15.1</td>\n",
       "      <td>265.0</td>\n",
       "    </tr>\n",
       "    <tr>\n",
       "      <th>9</th>\n",
       "      <td>Illinois</td>\n",
       "      <td>21.1 to 57.0</td>\n",
       "      <td>21.3</td>\n",
       "      <td>2722.0</td>\n",
       "      <td>21.9</td>\n",
       "      <td>2790.0</td>\n",
       "    </tr>\n",
       "    <tr>\n",
       "      <th>10</th>\n",
       "      <td>Indiana</td>\n",
       "      <td>21.1 to 57.0</td>\n",
       "      <td>25.6</td>\n",
       "      <td>1629.0</td>\n",
       "      <td>26.6</td>\n",
       "      <td>1699.0</td>\n",
       "    </tr>\n",
       "    <tr>\n",
       "      <th>11</th>\n",
       "      <td>Kentucky</td>\n",
       "      <td>21.1 to 57.0</td>\n",
       "      <td>30.9</td>\n",
       "      <td>1315.0</td>\n",
       "      <td>32.5</td>\n",
       "      <td>1380.0</td>\n",
       "    </tr>\n",
       "    <tr>\n",
       "      <th>12</th>\n",
       "      <td>Louisiana</td>\n",
       "      <td>21.1 to 57.0</td>\n",
       "      <td>25.4</td>\n",
       "      <td>1140.0</td>\n",
       "      <td>28.3</td>\n",
       "      <td>1267.0</td>\n",
       "    </tr>\n",
       "    <tr>\n",
       "      <th>13</th>\n",
       "      <td>Maine</td>\n",
       "      <td>21.1 to 57.0</td>\n",
       "      <td>27.9</td>\n",
       "      <td>345.0</td>\n",
       "      <td>29.9</td>\n",
       "      <td>371.0</td>\n",
       "    </tr>\n",
       "    <tr>\n",
       "      <th>14</th>\n",
       "      <td>Maryland</td>\n",
       "      <td>21.1 to 57.0</td>\n",
       "      <td>37.2</td>\n",
       "      <td>2324.0</td>\n",
       "      <td>38.2</td>\n",
       "      <td>2369.0</td>\n",
       "    </tr>\n",
       "    <tr>\n",
       "      <th>15</th>\n",
       "      <td>Massachusetts</td>\n",
       "      <td>21.1 to 57.0</td>\n",
       "      <td>32.8</td>\n",
       "      <td>2241.0</td>\n",
       "      <td>32.1</td>\n",
       "      <td>2210.0</td>\n",
       "    </tr>\n",
       "    <tr>\n",
       "      <th>16</th>\n",
       "      <td>Michigan</td>\n",
       "      <td>21.1 to 57.0</td>\n",
       "      <td>26.6</td>\n",
       "      <td>2591.0</td>\n",
       "      <td>24.4</td>\n",
       "      <td>2385.0</td>\n",
       "    </tr>\n",
       "    <tr>\n",
       "      <th>17</th>\n",
       "      <td>Missouri</td>\n",
       "      <td>21.1 to 57.0</td>\n",
       "      <td>27.5</td>\n",
       "      <td>1610.0</td>\n",
       "      <td>26.9</td>\n",
       "      <td>1583.0</td>\n",
       "    </tr>\n",
       "    <tr>\n",
       "      <th>18</th>\n",
       "      <td>Nebraska</td>\n",
       "      <td>6.9 to 11.0</td>\n",
       "      <td>7.4</td>\n",
       "      <td>138.0</td>\n",
       "      <td>8.7</td>\n",
       "      <td>161.0</td>\n",
       "    </tr>\n",
       "    <tr>\n",
       "      <th>19</th>\n",
       "      <td>New Hampshire</td>\n",
       "      <td>21.1 to 57.0</td>\n",
       "      <td>35.8</td>\n",
       "      <td>452.0</td>\n",
       "      <td>32.0</td>\n",
       "      <td>407.0</td>\n",
       "    </tr>\n",
       "    <tr>\n",
       "      <th>20</th>\n",
       "      <td>New Jersey</td>\n",
       "      <td>21.1 to 57.0</td>\n",
       "      <td>33.1</td>\n",
       "      <td>2900.0</td>\n",
       "      <td>31.7</td>\n",
       "      <td>2805.0</td>\n",
       "    </tr>\n",
       "    <tr>\n",
       "      <th>21</th>\n",
       "      <td>New Mexico</td>\n",
       "      <td>21.1 to 57.0</td>\n",
       "      <td>26.7</td>\n",
       "      <td>537.0</td>\n",
       "      <td>30.2</td>\n",
       "      <td>599.0</td>\n",
       "    </tr>\n",
       "    <tr>\n",
       "      <th>22</th>\n",
       "      <td>New York</td>\n",
       "      <td>16.1 to 18.5</td>\n",
       "      <td>18.4</td>\n",
       "      <td>3697.0</td>\n",
       "      <td>18.2</td>\n",
       "      <td>3617.0</td>\n",
       "    </tr>\n",
       "    <tr>\n",
       "      <th>23</th>\n",
       "      <td>North Carolina</td>\n",
       "      <td>21.1 to 57.0</td>\n",
       "      <td>22.4</td>\n",
       "      <td>2259.0</td>\n",
       "      <td>22.3</td>\n",
       "      <td>2266.0</td>\n",
       "    </tr>\n",
       "    <tr>\n",
       "      <th>24</th>\n",
       "      <td>Ohio</td>\n",
       "      <td>21.1 to 57.0</td>\n",
       "      <td>35.9</td>\n",
       "      <td>3980.0</td>\n",
       "      <td>38.3</td>\n",
       "      <td>4251.0</td>\n",
       "    </tr>\n",
       "    <tr>\n",
       "      <th>25</th>\n",
       "      <td>Oklahoma</td>\n",
       "      <td>16.1 to 18.5</td>\n",
       "      <td>18.4</td>\n",
       "      <td>716.0</td>\n",
       "      <td>16.7</td>\n",
       "      <td>645.0</td>\n",
       "    </tr>\n",
       "    <tr>\n",
       "      <th>26</th>\n",
       "      <td>Pennsylvania</td>\n",
       "      <td>21.1 to 57.0</td>\n",
       "      <td>36.1</td>\n",
       "      <td>4415.0</td>\n",
       "      <td>35.6</td>\n",
       "      <td>4377.0</td>\n",
       "    </tr>\n",
       "    <tr>\n",
       "      <th>27</th>\n",
       "      <td>Rhode Island</td>\n",
       "      <td>21.1 to 57.0</td>\n",
       "      <td>30.1</td>\n",
       "      <td>317.0</td>\n",
       "      <td>29.5</td>\n",
       "      <td>307.0</td>\n",
       "    </tr>\n",
       "    <tr>\n",
       "      <th>28</th>\n",
       "      <td>South Carolina</td>\n",
       "      <td>21.1 to 57.0</td>\n",
       "      <td>22.6</td>\n",
       "      <td>1125.0</td>\n",
       "      <td>22.7</td>\n",
       "      <td>1127.0</td>\n",
       "    </tr>\n",
       "    <tr>\n",
       "      <th>29</th>\n",
       "      <td>South Dakota</td>\n",
       "      <td>6.9 to 11.0</td>\n",
       "      <td>6.9</td>\n",
       "      <td>57.0</td>\n",
       "      <td>10.5</td>\n",
       "      <td>86.0</td>\n",
       "    </tr>\n",
       "    <tr>\n",
       "      <th>30</th>\n",
       "      <td>Tennessee</td>\n",
       "      <td>21.1 to 57.0</td>\n",
       "      <td>27.5</td>\n",
       "      <td>1823.0</td>\n",
       "      <td>31.2</td>\n",
       "      <td>2089.0</td>\n",
       "    </tr>\n",
       "    <tr>\n",
       "      <th>31</th>\n",
       "      <td>Texas</td>\n",
       "      <td>6.9 to 11.0</td>\n",
       "      <td>10.4</td>\n",
       "      <td>3005.0</td>\n",
       "      <td>10.8</td>\n",
       "      <td>3136.0</td>\n",
       "    </tr>\n",
       "    <tr>\n",
       "      <th>32</th>\n",
       "      <td>Vermont</td>\n",
       "      <td>21.1 to 57.0</td>\n",
       "      <td>26.6</td>\n",
       "      <td>153.0</td>\n",
       "      <td>23.8</td>\n",
       "      <td>133.0</td>\n",
       "    </tr>\n",
       "    <tr>\n",
       "      <th>33</th>\n",
       "      <td>Virginia</td>\n",
       "      <td>16.1 to 18.5</td>\n",
       "      <td>17.1</td>\n",
       "      <td>1448.0</td>\n",
       "      <td>18.3</td>\n",
       "      <td>1547.0</td>\n",
       "    </tr>\n",
       "    <tr>\n",
       "      <th>34</th>\n",
       "      <td>Washington</td>\n",
       "      <td>13.6 to 16.0</td>\n",
       "      <td>14.8</td>\n",
       "      <td>1164.0</td>\n",
       "      <td>15.8</td>\n",
       "      <td>1259.0</td>\n",
       "    </tr>\n",
       "    <tr>\n",
       "      <th>35</th>\n",
       "      <td>West Virginia</td>\n",
       "      <td>21.1 to 57.0</td>\n",
       "      <td>51.5</td>\n",
       "      <td>856.0</td>\n",
       "      <td>52.8</td>\n",
       "      <td>870.0</td>\n",
       "    </tr>\n",
       "  </tbody>\n",
       "</table>\n",
       "</div>"
      ],
      "text/plain": [
       "          Location Range Category  2018 Age-adjusted Rate  \\\n",
       "0          Alabama   16.1 to 18.5                    16.6   \n",
       "1          Arizona   21.1 to 57.0                    23.8   \n",
       "2         Colorado   16.1 to 18.5                    16.8   \n",
       "3      Connecticut   21.1 to 57.0                    30.7   \n",
       "4         Delaware   21.1 to 57.0                    43.8   \n",
       "5          Florida   21.1 to 57.0                    22.8   \n",
       "6          Georgia   11.1 to 13.5                    13.2   \n",
       "7           Hawaii   13.6 to 16.0                    14.3   \n",
       "8            Idaho   13.6 to 16.0                    14.6   \n",
       "9         Illinois   21.1 to 57.0                    21.3   \n",
       "10         Indiana   21.1 to 57.0                    25.6   \n",
       "11        Kentucky   21.1 to 57.0                    30.9   \n",
       "12       Louisiana   21.1 to 57.0                    25.4   \n",
       "13           Maine   21.1 to 57.0                    27.9   \n",
       "14        Maryland   21.1 to 57.0                    37.2   \n",
       "15   Massachusetts   21.1 to 57.0                    32.8   \n",
       "16        Michigan   21.1 to 57.0                    26.6   \n",
       "17        Missouri   21.1 to 57.0                    27.5   \n",
       "18        Nebraska    6.9 to 11.0                     7.4   \n",
       "19   New Hampshire   21.1 to 57.0                    35.8   \n",
       "20      New Jersey   21.1 to 57.0                    33.1   \n",
       "21      New Mexico   21.1 to 57.0                    26.7   \n",
       "22        New York   16.1 to 18.5                    18.4   \n",
       "23  North Carolina   21.1 to 57.0                    22.4   \n",
       "24            Ohio   21.1 to 57.0                    35.9   \n",
       "25        Oklahoma   16.1 to 18.5                    18.4   \n",
       "26    Pennsylvania   21.1 to 57.0                    36.1   \n",
       "27    Rhode Island   21.1 to 57.0                    30.1   \n",
       "28  South Carolina   21.1 to 57.0                    22.6   \n",
       "29    South Dakota    6.9 to 11.0                     6.9   \n",
       "30       Tennessee   21.1 to 57.0                    27.5   \n",
       "31           Texas    6.9 to 11.0                    10.4   \n",
       "32         Vermont   21.1 to 57.0                    26.6   \n",
       "33        Virginia   16.1 to 18.5                    17.1   \n",
       "34      Washington   13.6 to 16.0                    14.8   \n",
       "35   West Virginia   21.1 to 57.0                    51.5   \n",
       "\n",
       "    2018 Number of Deaths  2019 Age-adjusted Rate  2019 Number of Deaths  \n",
       "0                   775.0                    16.3                  768.0  \n",
       "1                  1670.0                    26.8                 1907.0  \n",
       "2                   995.0                    18.0                 1079.0  \n",
       "3                  1069.0                    34.7                 1214.0  \n",
       "4                   401.0                    48.0                  435.0  \n",
       "5                  4698.0                    25.5                 5268.0  \n",
       "6                  1404.0                    13.1                 1408.0  \n",
       "7                   213.0                    15.9                  242.0  \n",
       "8                   250.0                    15.1                  265.0  \n",
       "9                  2722.0                    21.9                 2790.0  \n",
       "10                 1629.0                    26.6                 1699.0  \n",
       "11                 1315.0                    32.5                 1380.0  \n",
       "12                 1140.0                    28.3                 1267.0  \n",
       "13                  345.0                    29.9                  371.0  \n",
       "14                 2324.0                    38.2                 2369.0  \n",
       "15                 2241.0                    32.1                 2210.0  \n",
       "16                 2591.0                    24.4                 2385.0  \n",
       "17                 1610.0                    26.9                 1583.0  \n",
       "18                  138.0                     8.7                  161.0  \n",
       "19                  452.0                    32.0                  407.0  \n",
       "20                 2900.0                    31.7                 2805.0  \n",
       "21                  537.0                    30.2                  599.0  \n",
       "22                 3697.0                    18.2                 3617.0  \n",
       "23                 2259.0                    22.3                 2266.0  \n",
       "24                 3980.0                    38.3                 4251.0  \n",
       "25                  716.0                    16.7                  645.0  \n",
       "26                 4415.0                    35.6                 4377.0  \n",
       "27                  317.0                    29.5                  307.0  \n",
       "28                 1125.0                    22.7                 1127.0  \n",
       "29                   57.0                    10.5                   86.0  \n",
       "30                 1823.0                    31.2                 2089.0  \n",
       "31                 3005.0                    10.8                 3136.0  \n",
       "32                  153.0                    23.8                  133.0  \n",
       "33                 1448.0                    18.3                 1547.0  \n",
       "34                 1164.0                    15.8                 1259.0  \n",
       "35                  856.0                    52.8                  870.0  "
      ]
     },
     "execution_count": 62,
     "metadata": {},
     "output_type": "execute_result"
    }
   ],
   "source": [
    "dfmerge = pd.merge(deaths2018,deaths2019)\n",
    "dfmerge"
   ]
  },
  {
   "cell_type": "code",
   "execution_count": 63,
   "id": "3aa7a135",
   "metadata": {},
   "outputs": [
    {
     "data": {
      "text/html": [
       "<div>\n",
       "<style scoped>\n",
       "    .dataframe tbody tr th:only-of-type {\n",
       "        vertical-align: middle;\n",
       "    }\n",
       "\n",
       "    .dataframe tbody tr th {\n",
       "        vertical-align: top;\n",
       "    }\n",
       "\n",
       "    .dataframe thead th {\n",
       "        text-align: right;\n",
       "    }\n",
       "</style>\n",
       "<table border=\"1\" class=\"dataframe\">\n",
       "  <thead>\n",
       "    <tr style=\"text-align: right;\">\n",
       "      <th></th>\n",
       "      <th>2018 Number of Deaths</th>\n",
       "      <th>2019 Number of Deaths</th>\n",
       "    </tr>\n",
       "  </thead>\n",
       "  <tbody>\n",
       "    <tr>\n",
       "      <th>1</th>\n",
       "      <td>1670.0</td>\n",
       "      <td>1907.0</td>\n",
       "    </tr>\n",
       "  </tbody>\n",
       "</table>\n",
       "</div>"
      ],
      "text/plain": [
       "   2018 Number of Deaths  2019 Number of Deaths\n",
       "1                 1670.0                 1907.0"
      ]
     },
     "execution_count": 63,
     "metadata": {},
     "output_type": "execute_result"
    }
   ],
   "source": [
    "arizona = dfmerge[dfmerge['Location'] == 'Arizona'][['2018 Number of Deaths','2019 Number of Deaths']]\n",
    "\n",
    "arizona"
   ]
  },
  {
   "cell_type": "code",
   "execution_count": 64,
   "id": "719919db",
   "metadata": {},
   "outputs": [
    {
     "data": {
      "image/png": "[encoded data removed]",
      "text/plain": [
       "<Figure size 1080x720 with 1 Axes>"
      ]
     },
     "metadata": {},
     "output_type": "display_data"
    }
   ],
   "source": [
    "arizona.plot.bar(figsize=(15,10));\n",
    "plt.ylabel('Number of Deaths');\n",
    "plt.xlabel('Year');\n",
    "plt.title('Number of drug overdose deaths in Arizona from 2018-2019');"
   ]
  },
  {
   "cell_type": "markdown",
   "id": "ced4ff74",
   "metadata": {},
   "source": [
    "#### Death rates from 1999-2020"
   ]
  },
  {
   "cell_type": "code",
   "execution_count": 65,
   "id": "a824f92b",
   "metadata": {},
   "outputs": [
    {
     "name": "stderr",
     "output_type": "stream",
     "text": [
      "*c* argument looks like a single numeric RGB or RGBA sequence, which should be avoided as value-mapping will have precedence in case its length matches with *x* & *y*.  Please use the *color* keyword-argument or provide a 2D array with a single row if you intend to specify the same RGB or RGBA value for all points.\n"
     ]
    },
    {
     "data": {
      "image/png": "[encoded data removed]",
      "text/plain": [
       "<Figure size 1080x720 with 1 Axes>"
      ]
     },
     "metadata": {},
     "output_type": "display_data"
    }
   ],
   "source": [
    "deathstimeline.plot.scatter(x='Year', y='Deaths', figsize=(15,10));\n",
    "a = [1999,2005,2010,2015,2020]\n",
    "b = [15000,25000,35000,50000,6000,75000,100000]\n",
    "x_ticks = np.arange(1999,2020,1)\n",
    "plt.xticks(x_ticks);\n",
    "y_ticks = np.arange(15000,100000,10000);\n",
    "plt.yticks(y_ticks);\n",
    "plt.title('Drug overdose death rates 1999-2020');"
   ]
  },
  {
   "cell_type": "code",
   "execution_count": 66,
   "id": "b30e3fbb",
   "metadata": {
    "scrolled": true
   },
   "outputs": [
    {
     "data": {
      "text/html": [
       "<div>\n",
       "<style scoped>\n",
       "    .dataframe tbody tr th:only-of-type {\n",
       "        vertical-align: middle;\n",
       "    }\n",
       "\n",
       "    .dataframe tbody tr th {\n",
       "        vertical-align: top;\n",
       "    }\n",
       "\n",
       "    .dataframe thead th {\n",
       "        text-align: right;\n",
       "    }\n",
       "</style>\n",
       "<table border=\"1\" class=\"dataframe\">\n",
       "  <thead>\n",
       "    <tr style=\"text-align: right;\">\n",
       "      <th></th>\n",
       "      <th>Year</th>\n",
       "      <th>Gender</th>\n",
       "      <th>Drug Type</th>\n",
       "      <th>Deaths</th>\n",
       "    </tr>\n",
       "  </thead>\n",
       "  <tbody>\n",
       "    <tr>\n",
       "      <th>0</th>\n",
       "      <td>2020</td>\n",
       "      <td>Both AD</td>\n",
       "      <td>All Drugs</td>\n",
       "      <td>91799.0</td>\n",
       "    </tr>\n",
       "    <tr>\n",
       "      <th>1</th>\n",
       "      <td>2020</td>\n",
       "      <td>Both AO</td>\n",
       "      <td>Any Opioid B</td>\n",
       "      <td>68630.0</td>\n",
       "    </tr>\n",
       "    <tr>\n",
       "      <th>2</th>\n",
       "      <td>2020</td>\n",
       "      <td>Female</td>\n",
       "      <td>Any Opioid F</td>\n",
       "      <td>19970.0</td>\n",
       "    </tr>\n",
       "    <tr>\n",
       "      <th>3</th>\n",
       "      <td>2020</td>\n",
       "      <td>Male</td>\n",
       "      <td>Any Opioid M</td>\n",
       "      <td>48660.0</td>\n",
       "    </tr>\n",
       "    <tr>\n",
       "      <th>4</th>\n",
       "      <td>2019</td>\n",
       "      <td>Both AD</td>\n",
       "      <td>All Drugs</td>\n",
       "      <td>70630.0</td>\n",
       "    </tr>\n",
       "    <tr>\n",
       "      <th>5</th>\n",
       "      <td>2019</td>\n",
       "      <td>Both AO</td>\n",
       "      <td>Any Opioid B</td>\n",
       "      <td>49860.0</td>\n",
       "    </tr>\n",
       "    <tr>\n",
       "      <th>6</th>\n",
       "      <td>2019</td>\n",
       "      <td>Female</td>\n",
       "      <td>Any Opioid F</td>\n",
       "      <td>15225.0</td>\n",
       "    </tr>\n",
       "    <tr>\n",
       "      <th>7</th>\n",
       "      <td>2019</td>\n",
       "      <td>Male</td>\n",
       "      <td>Any Opioid M</td>\n",
       "      <td>34635.0</td>\n",
       "    </tr>\n",
       "    <tr>\n",
       "      <th>8</th>\n",
       "      <td>2018</td>\n",
       "      <td>Both AD</td>\n",
       "      <td>All Drugs</td>\n",
       "      <td>67637.0</td>\n",
       "    </tr>\n",
       "    <tr>\n",
       "      <th>9</th>\n",
       "      <td>2018</td>\n",
       "      <td>Both AO</td>\n",
       "      <td>Any Opioid B</td>\n",
       "      <td>46802.0</td>\n",
       "    </tr>\n",
       "  </tbody>\n",
       "</table>\n",
       "</div>"
      ],
      "text/plain": [
       "   Year   Gender     Drug Type   Deaths\n",
       "0  2020  Both AD     All Drugs  91799.0\n",
       "1  2020  Both AO  Any Opioid B  68630.0\n",
       "2  2020   Female  Any Opioid F  19970.0\n",
       "3  2020     Male  Any Opioid M  48660.0\n",
       "4  2019  Both AD     All Drugs  70630.0\n",
       "5  2019  Both AO  Any Opioid B  49860.0\n",
       "6  2019   Female  Any Opioid F  15225.0\n",
       "7  2019     Male  Any Opioid M  34635.0\n",
       "8  2018  Both AD     All Drugs  67637.0\n",
       "9  2018  Both AO  Any Opioid B  46802.0"
      ]
     },
     "execution_count": 66,
     "metadata": {},
     "output_type": "execute_result"
    }
   ],
   "source": [
    "opioidtimeline.head(10)"
   ]
  },
  {
   "cell_type": "markdown",
   "id": "89e5bca0",
   "metadata": {},
   "source": [
    "#### Total drug overdose deaths for All Drugs for both genders"
   ]
  },
  {
   "cell_type": "code",
   "execution_count": 78,
   "id": "fc5652f6",
   "metadata": {
    "scrolled": true
   },
   "outputs": [
    {
     "name": "stdout",
     "output_type": "stream",
     "text": [
      "The total number of drug overdose deaths from all drugs for both genders 1999-2020: 932637.0\n"
     ]
    }
   ],
   "source": [
    "alldrugs = opioidtimeline[opioidtimeline['Gender'] == 'Both AD']['Deaths'].sum()\n",
    "print(f'The total number of drug overdose deaths from all drugs for both genders 1999-2020: {alldrugs}')"
   ]
  },
  {
   "cell_type": "markdown",
   "id": "3407b807",
   "metadata": {},
   "source": [
    "#### Total drug overdose deaths for opioids for both genders"
   ]
  },
  {
   "cell_type": "code",
   "execution_count": 82,
   "id": "9a07f8c1",
   "metadata": {},
   "outputs": [
    {
     "name": "stdout",
     "output_type": "stream",
     "text": [
      "The total number of drug overdose deaths for opioids for both genders 1999-2020: 564522.0\n"
     ]
    }
   ],
   "source": [
    "opioiddeaths = opioidtimeline[opioidtimeline['Gender'] == 'Both AO']['Deaths'].sum()\n",
    "print(f'The total number of drug overdose deaths for opioids for both genders 1999-2020: {opioiddeaths}')"
   ]
  },
  {
   "cell_type": "markdown",
   "id": "de1b84da",
   "metadata": {},
   "source": [
    "#### Total drug overdose deaths from opioids for Males"
   ]
  },
  {
   "cell_type": "code",
   "execution_count": 83,
   "id": "112e03d1",
   "metadata": {
    "scrolled": true
   },
   "outputs": [
    {
     "name": "stdout",
     "output_type": "stream",
     "text": [
      "The total number of drug overdose deaths from opioids for males 1999-2020: 378974.0\n"
     ]
    }
   ],
   "source": [
    "maletotal = opioidtimeline[opioidtimeline['Gender'] == 'Male']['Deaths'].sum()\n",
    "print(f'The total number of drug overdose deaths from opioids for males 1999-2020: {maletotal}')"
   ]
  },
  {
   "cell_type": "markdown",
   "id": "a57e78be",
   "metadata": {},
   "source": [
    "#### Total drug overdose deaths from opioids for Females"
   ]
  },
  {
   "cell_type": "code",
   "execution_count": 84,
   "id": "b1e72f09",
   "metadata": {
    "scrolled": false
   },
   "outputs": [
    {
     "name": "stdout",
     "output_type": "stream",
     "text": [
      "The total number of drug overdose deaths from opioids for females 1999-2020: 185542.0\n"
     ]
    }
   ],
   "source": [
    "femaletotal = opioidtimeline[opioidtimeline['Gender'] == 'Female']['Deaths'].sum()\n",
    "print(f'The total number of drug overdose deaths from opioids for females 1999-2020: {femaletotal}')"
   ]
  },
  {
   "cell_type": "markdown",
   "id": "50d6a3e9",
   "metadata": {},
   "source": [
    "#### Opioid drug overdose deaths"
   ]
  },
  {
   "cell_type": "code",
   "execution_count": 91,
   "id": "4da5aef7",
   "metadata": {},
   "outputs": [
    {
     "name": "stdout",
     "output_type": "stream",
     "text": [
      "Opioids accounted for 61% of all drug overdose deaths from 1999-2020\n"
     ]
    }
   ],
   "source": [
    "opioidpercentage = opioiddeaths/alldrugs\n",
    "percentage = \"{:.00%}\".format(opioidpercentage)\n",
    "print(f'Opioids accounted for {percentage} of all drug overdose deaths from 1999-2020')"
   ]
  },
  {
   "cell_type": "markdown",
   "id": "18b425e5",
   "metadata": {},
   "source": [
    "#### Male drug overdose deaths from opioids"
   ]
  },
  {
   "cell_type": "code",
   "execution_count": 92,
   "id": "ab39c97c",
   "metadata": {
    "scrolled": true
   },
   "outputs": [
    {
     "name": "stdout",
     "output_type": "stream",
     "text": [
      "Males accounted for 67% of all drug overdose deaths from opioids 1999-2020\n"
     ]
    }
   ],
   "source": [
    "maleopioiddeaths = maletotal/opioiddeaths\n",
    "percentage = \"{:.00%}\".format(maleopioiddeaths)\n",
    "print(f'Males accounted for {percentage} of all drug overdose deaths from opioids 1999-2020')"
   ]
  },
  {
   "cell_type": "markdown",
   "id": "30a4e45e",
   "metadata": {},
   "source": [
    "#### Female drug overdose deaths from opioids"
   ]
  },
  {
   "cell_type": "code",
   "execution_count": 93,
   "id": "b735f5d6",
   "metadata": {
    "scrolled": true
   },
   "outputs": [
    {
     "name": "stdout",
     "output_type": "stream",
     "text": [
      "Females accounted for 33% of all drug overdose deaths from opioids 1999-2020\n"
     ]
    }
   ],
   "source": [
    "femaleopioiddeaths = femaletotal/opioiddeaths\n",
    "percentage = \"{:.00%}\".format(femaleopioiddeaths)\n",
    "print(f'Females accounted for {percentage} of all drug overdose deaths from opioids 1999-2020')"
   ]
  },
  {
   "cell_type": "markdown",
   "id": "57447b19",
   "metadata": {},
   "source": [
    "#### Opioid deaths per sex 1999-2020"
   ]
  },
  {
   "cell_type": "code",
   "execution_count": 120,
   "id": "82b80c3b",
   "metadata": {
    "scrolled": true
   },
   "outputs": [
    {
     "data": {
      "image/png": "[encoded data removed]",
      "text/plain": [
       "<Figure size 432x288 with 1 Axes>"
      ]
     },
     "metadata": {},
     "output_type": "display_data"
    }
   ],
   "source": [
    "labels = 'Males', 'Females'\n",
    "sizes = [67,33]\n",
    "fig1, ax1 = plt.subplots()\n",
    "explode = (0,0.1)\n",
    "ax1.pie(sizes, explode=explode, labels=labels, autopct='%1.1f%%', shadow=True, startangle=90)\n",
    "ax1.axis('equal')\n",
    "plt.title('Deaths from opioids from 1999-2020 by gender')\n",
    "plt.show()"
   ]
  },
  {
   "cell_type": "markdown",
   "id": "f4ef1b54",
   "metadata": {},
   "source": [
    "#### Opioid deaths vs. all other drug overdose deaths"
   ]
  },
  {
   "cell_type": "code",
   "execution_count": 129,
   "id": "a2b218f1",
   "metadata": {},
   "outputs": [
    {
     "data": {
      "image/png": "[encoded data removed]",
      "text/plain": [
       "<Figure size 432x288 with 1 Axes>"
      ]
     },
     "metadata": {},
     "output_type": "display_data"
    }
   ],
   "source": [
    "labels = 'Opioids', 'All other drugs'\n",
    "sizes = [61,39]\n",
    "fig1, ax1 = plt.subplots()\n",
    "explode = (0,0.1)\n",
    "ax1.pie(sizes, explode=explode, labels=labels, autopct='%1.1f%%', shadow=True, startangle=90)\n",
    "ax1.axis('equal')\n",
    "plt.title('Deaths by opioids vs. all drugs 1999-2020')\n",
    "plt.show()"
   ]
  },
  {
   "cell_type": "markdown",
   "id": "ada863a1",
   "metadata": {},
   "source": [
    "Based on the findings we can see that deaths by drug overdose in the U.S. from 2018 to 2019 have increased across the country. There were only two states that showed a decrease in deaths from 2018-2019. The U.S. as a whole had an increase in deaths by drug overdose from 16,849 in 1999 to 91,799 in 2020. The number of deaths by drug overdose has increased over 5 times in the span of 21 years. Men had twice as many deaths than women from opioids.The increase in drug overdose deaths could be caused by many factors such as crime rate, mental health, or laced substances. The causes for overdoses is a case by case situation, however the states that showed an increase in deaths in 2019 should look at the policies and procedures for the two states that showed a decrease in deaths. Combatting drug overdose deaths does not have a simple approach, this problem has to be tackled by many different sources including medical professionals, law enforcement, and domestic accountability."
   ]
  }
 ],
 "metadata": {
  "kernelspec": {
   "display_name": "Python 3 (ipykernel)",
   "language": "python",
   "name": "python3"
  },
  "language_info": {
   "codemirror_mode": {
    "name": "ipython",
    "version": 3
   },
   "file_extension": ".py",
   "mimetype": "text/x-python",
   "name": "python",
   "nbconvert_exporter": "python",
   "pygments_lexer": "ipython3",
   "version": "3.10.1"
  }
 },
 "nbformat": 4,
 "nbformat_minor": 5
}
