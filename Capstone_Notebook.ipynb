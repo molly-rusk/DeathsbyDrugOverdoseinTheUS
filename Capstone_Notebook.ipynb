{
 "cells": [
  {
   "cell_type": "markdown",
   "id": "67c0131d",
   "metadata": {},
   "source": [
    "## Project Overview Description"
   ]
  },
  {
   "cell_type": "markdown",
   "id": "9b33d6b8",
   "metadata": {},
   "source": [
    "Drug problems in the U.S. have been prevalent for many years and one important issue is deaths caused by drug overdose. For this project I wanted to conduct data analysis to determine if deaths by drug overdose have been increasing and which states have been affected the most. I am also interested specifically in the state of Arizona. My research will determine which states show an increase, decrease, or stability of overdose deaths. "
   ]
  },
  {
   "cell_type": "markdown",
   "id": "8d7892a0",
   "metadata": {},
   "source": [
    "## Dataset Description"
   ]
  },
  {
   "cell_type": "markdown",
   "id": "f96b5276",
   "metadata": {},
   "source": [
    "I am using three data sets, the first shows the number of drug overdose deaths in the U.S. by state in 2018, the second for drug overdose deaths by state in 2019, and the third the percent change in deaths by state from 2018-2019. All of the datasets were obtained from the CDC website. The dataset for Drug Overdose Deaths in 2018 did not have a downloadable CSV therefore the table information was trasferred to an Excel spreadsheet. After transferring, the appropriate column names were given and the '2018 Number of Deaths' column was correctly formatted from object type to float. Once all of the appropriate transformations were complete the file was saved as a CSV. The 2019 Drug Overdose Deaths dataset and 2018-2019 Drug Overdose Death Rate Increase dataset both had a column with NaN values which needed to be dropped to correctly compare all 3 datasets. "
   ]
  },
  {
   "cell_type": "markdown",
   "id": "581e8782",
   "metadata": {},
   "source": [
    "## Exploratory Data Analysis (EDA)"
   ]
  },
  {
   "cell_type": "code",
   "execution_count": 1,
   "id": "f6b968c2",
   "metadata": {},
   "outputs": [],
   "source": [
    "import pandas as pd\n",
    "import numpy as np\n",
    "import matplotlib.pyplot as plt"
   ]
  },
  {
   "cell_type": "code",
   "execution_count": 2,
   "id": "af72230b",
   "metadata": {},
   "outputs": [
    {
     "data": {
      "text/html": [
       "<div>\n",
       "<style scoped>\n",
       "    .dataframe tbody tr th:only-of-type {\n",
       "        vertical-align: middle;\n",
       "    }\n",
       "\n",
       "    .dataframe tbody tr th {\n",
       "        vertical-align: top;\n",
       "    }\n",
       "\n",
       "    .dataframe thead th {\n",
       "        text-align: right;\n",
       "    }\n",
       "</style>\n",
       "<table border=\"1\" class=\"dataframe\">\n",
       "  <thead>\n",
       "    <tr style=\"text-align: right;\">\n",
       "      <th></th>\n",
       "      <th>Location</th>\n",
       "      <th>Range Category</th>\n",
       "      <th>2018 Age-adjusted Rate</th>\n",
       "      <th>2018 Number of Deaths</th>\n",
       "    </tr>\n",
       "  </thead>\n",
       "  <tbody>\n",
       "    <tr>\n",
       "      <th>0</th>\n",
       "      <td>Alabama</td>\n",
       "      <td>16.1 to 18.5</td>\n",
       "      <td>16.6</td>\n",
       "      <td>775.0</td>\n",
       "    </tr>\n",
       "    <tr>\n",
       "      <th>1</th>\n",
       "      <td>Alaska</td>\n",
       "      <td>13.6 to 16.0</td>\n",
       "      <td>14.6</td>\n",
       "      <td>110.0</td>\n",
       "    </tr>\n",
       "    <tr>\n",
       "      <th>2</th>\n",
       "      <td>Arizona</td>\n",
       "      <td>21.1 to 57.0</td>\n",
       "      <td>23.8</td>\n",
       "      <td>1670.0</td>\n",
       "    </tr>\n",
       "    <tr>\n",
       "      <th>3</th>\n",
       "      <td>Arkansas</td>\n",
       "      <td>13.6 to 16.0</td>\n",
       "      <td>15.7</td>\n",
       "      <td>444.0</td>\n",
       "    </tr>\n",
       "    <tr>\n",
       "      <th>4</th>\n",
       "      <td>California</td>\n",
       "      <td>11.1 to 13.5</td>\n",
       "      <td>12.8</td>\n",
       "      <td>5348.0</td>\n",
       "    </tr>\n",
       "  </tbody>\n",
       "</table>\n",
       "</div>"
      ],
      "text/plain": [
       "     Location Range Category  2018 Age-adjusted Rate  2018 Number of Deaths\n",
       "0     Alabama   16.1 to 18.5                    16.6                  775.0\n",
       "1      Alaska   13.6 to 16.0                    14.6                  110.0\n",
       "2     Arizona   21.1 to 57.0                    23.8                 1670.0\n",
       "3    Arkansas   13.6 to 16.0                    15.7                  444.0\n",
       "4  California   11.1 to 13.5                    12.8                 5348.0"
      ]
     },
     "execution_count": 2,
     "metadata": {},
     "output_type": "execute_result"
    }
   ],
   "source": [
    "deaths2018 = pd.read_csv('2018-Deaths.csv')\n",
    "deaths2018.head()"
   ]
  },
  {
   "cell_type": "code",
   "execution_count": 3,
   "id": "94f14f83",
   "metadata": {},
   "outputs": [
    {
     "data": {
      "text/html": [
       "<div>\n",
       "<style scoped>\n",
       "    .dataframe tbody tr th:only-of-type {\n",
       "        vertical-align: middle;\n",
       "    }\n",
       "\n",
       "    .dataframe tbody tr th {\n",
       "        vertical-align: top;\n",
       "    }\n",
       "\n",
       "    .dataframe thead th {\n",
       "        text-align: right;\n",
       "    }\n",
       "</style>\n",
       "<table border=\"1\" class=\"dataframe\">\n",
       "  <thead>\n",
       "    <tr style=\"text-align: right;\">\n",
       "      <th></th>\n",
       "      <th>Location</th>\n",
       "      <th>Range Category</th>\n",
       "      <th>2019 Age-adjusted Rate</th>\n",
       "      <th>2019 Number of Deaths</th>\n",
       "    </tr>\n",
       "  </thead>\n",
       "  <tbody>\n",
       "    <tr>\n",
       "      <th>0</th>\n",
       "      <td>Alabama</td>\n",
       "      <td>16.1 to 18.5</td>\n",
       "      <td>16.3</td>\n",
       "      <td>768.0</td>\n",
       "    </tr>\n",
       "    <tr>\n",
       "      <th>1</th>\n",
       "      <td>Alaska</td>\n",
       "      <td>16.1 to 18.5</td>\n",
       "      <td>17.8</td>\n",
       "      <td>132.0</td>\n",
       "    </tr>\n",
       "    <tr>\n",
       "      <th>2</th>\n",
       "      <td>Arizona</td>\n",
       "      <td>21.1 to 57.0</td>\n",
       "      <td>26.8</td>\n",
       "      <td>1907.0</td>\n",
       "    </tr>\n",
       "    <tr>\n",
       "      <th>3</th>\n",
       "      <td>Arkansas</td>\n",
       "      <td>11.1 to 13.5</td>\n",
       "      <td>13.5</td>\n",
       "      <td>388.0</td>\n",
       "    </tr>\n",
       "    <tr>\n",
       "      <th>4</th>\n",
       "      <td>California</td>\n",
       "      <td>13.6 to 16.0</td>\n",
       "      <td>15.0</td>\n",
       "      <td>6198.0</td>\n",
       "    </tr>\n",
       "  </tbody>\n",
       "</table>\n",
       "</div>"
      ],
      "text/plain": [
       "     Location Range Category  2019 Age-adjusted Rate  2019 Number of Deaths\n",
       "0     Alabama   16.1 to 18.5                    16.3                  768.0\n",
       "1      Alaska   16.1 to 18.5                    17.8                  132.0\n",
       "2     Arizona   21.1 to 57.0                    26.8                 1907.0\n",
       "3    Arkansas   11.1 to 13.5                    13.5                  388.0\n",
       "4  California   13.6 to 16.0                    15.0                 6198.0"
      ]
     },
     "execution_count": 3,
     "metadata": {},
     "output_type": "execute_result"
    }
   ],
   "source": [
    "deaths2019 = pd.read_csv('2019-Deaths.csv')\n",
    "deaths2019.head()"
   ]
  },
  {
   "cell_type": "code",
   "execution_count": 4,
   "id": "0b892ba2",
   "metadata": {},
   "outputs": [
    {
     "data": {
      "text/html": [
       "<div>\n",
       "<style scoped>\n",
       "    .dataframe tbody tr th:only-of-type {\n",
       "        vertical-align: middle;\n",
       "    }\n",
       "\n",
       "    .dataframe tbody tr th {\n",
       "        vertical-align: top;\n",
       "    }\n",
       "\n",
       "    .dataframe thead th {\n",
       "        text-align: right;\n",
       "    }\n",
       "</style>\n",
       "<table border=\"1\" class=\"dataframe\">\n",
       "  <thead>\n",
       "    <tr style=\"text-align: right;\">\n",
       "      <th></th>\n",
       "      <th>Location</th>\n",
       "      <th>Statistically Significant Change</th>\n",
       "      <th>Percent Change from 2018-2019</th>\n",
       "    </tr>\n",
       "  </thead>\n",
       "  <tbody>\n",
       "    <tr>\n",
       "      <th>0</th>\n",
       "      <td>Alabama</td>\n",
       "      <td>Stable</td>\n",
       "      <td>-1.8</td>\n",
       "    </tr>\n",
       "    <tr>\n",
       "      <th>1</th>\n",
       "      <td>Alaska</td>\n",
       "      <td>Stable</td>\n",
       "      <td>21.9</td>\n",
       "    </tr>\n",
       "    <tr>\n",
       "      <th>2</th>\n",
       "      <td>Arizona</td>\n",
       "      <td>Increase</td>\n",
       "      <td>12.6</td>\n",
       "    </tr>\n",
       "    <tr>\n",
       "      <th>3</th>\n",
       "      <td>Arkansas</td>\n",
       "      <td>Decrease</td>\n",
       "      <td>-14.0</td>\n",
       "    </tr>\n",
       "    <tr>\n",
       "      <th>4</th>\n",
       "      <td>California</td>\n",
       "      <td>Increase</td>\n",
       "      <td>17.2</td>\n",
       "    </tr>\n",
       "  </tbody>\n",
       "</table>\n",
       "</div>"
      ],
      "text/plain": [
       "     Location Statistically Significant Change   Percent Change from 2018-2019\n",
       "0     Alabama                            Stable                           -1.8\n",
       "1      Alaska                            Stable                           21.9\n",
       "2     Arizona                          Increase                           12.6\n",
       "3    Arkansas                          Decrease                          -14.0\n",
       "4  California                          Increase                           17.2"
      ]
     },
     "execution_count": 4,
     "metadata": {},
     "output_type": "execute_result"
    }
   ],
   "source": [
    "deathchange = pd.read_csv('2018-2019-Deaths.csv')\n",
    "deathchange.head()"
   ]
  },
  {
   "cell_type": "code",
   "execution_count": 5,
   "id": "7e0fce02",
   "metadata": {},
   "outputs": [
    {
     "data": {
      "text/plain": [
       "(51, 4)"
      ]
     },
     "execution_count": 5,
     "metadata": {},
     "output_type": "execute_result"
    }
   ],
   "source": [
    "deaths2018.shape"
   ]
  },
  {
   "cell_type": "code",
   "execution_count": 6,
   "id": "59474867",
   "metadata": {},
   "outputs": [
    {
     "data": {
      "text/plain": [
       "(52, 4)"
      ]
     },
     "execution_count": 6,
     "metadata": {},
     "output_type": "execute_result"
    }
   ],
   "source": [
    "deaths2019.shape"
   ]
  },
  {
   "cell_type": "code",
   "execution_count": 7,
   "id": "9513a481",
   "metadata": {},
   "outputs": [
    {
     "data": {
      "text/plain": [
       "(52, 3)"
      ]
     },
     "execution_count": 7,
     "metadata": {},
     "output_type": "execute_result"
    }
   ],
   "source": [
    "deathchange.shape"
   ]
  },
  {
   "cell_type": "markdown",
   "id": "5c5077f8",
   "metadata": {},
   "source": [
    "The deaths dataset for 2019 and the change in deaths 2018-2019 deaths dataset both have an extra row compared to the 2018 dataset. "
   ]
  },
  {
   "cell_type": "code",
   "execution_count": 10,
   "id": "8397cb6d",
   "metadata": {},
   "outputs": [
    {
     "data": {
      "text/html": [
       "<div>\n",
       "<style scoped>\n",
       "    .dataframe tbody tr th:only-of-type {\n",
       "        vertical-align: middle;\n",
       "    }\n",
       "\n",
       "    .dataframe tbody tr th {\n",
       "        vertical-align: top;\n",
       "    }\n",
       "\n",
       "    .dataframe thead th {\n",
       "        text-align: right;\n",
       "    }\n",
       "</style>\n",
       "<table border=\"1\" class=\"dataframe\">\n",
       "  <thead>\n",
       "    <tr style=\"text-align: right;\">\n",
       "      <th></th>\n",
       "      <th>Location</th>\n",
       "      <th>Range Category</th>\n",
       "      <th>2019 Age-adjusted Rate</th>\n",
       "      <th>2019 Number of Deaths</th>\n",
       "    </tr>\n",
       "  </thead>\n",
       "  <tbody>\n",
       "    <tr>\n",
       "      <th>47</th>\n",
       "      <td>Washington</td>\n",
       "      <td>13.6 to 16.0</td>\n",
       "      <td>15.8</td>\n",
       "      <td>1259.0</td>\n",
       "    </tr>\n",
       "    <tr>\n",
       "      <th>48</th>\n",
       "      <td>West Virginia</td>\n",
       "      <td>21.1 to 57.0</td>\n",
       "      <td>52.8</td>\n",
       "      <td>870.0</td>\n",
       "    </tr>\n",
       "    <tr>\n",
       "      <th>49</th>\n",
       "      <td>Wisconsin</td>\n",
       "      <td>21.1 to 57.0</td>\n",
       "      <td>21.1</td>\n",
       "      <td>1201.0</td>\n",
       "    </tr>\n",
       "    <tr>\n",
       "      <th>50</th>\n",
       "      <td>Wyoming</td>\n",
       "      <td>13.6 to 16.0</td>\n",
       "      <td>14.1</td>\n",
       "      <td>79.0</td>\n",
       "    </tr>\n",
       "    <tr>\n",
       "      <th>51</th>\n",
       "      <td>NaN</td>\n",
       "      <td>NaN</td>\n",
       "      <td>NaN</td>\n",
       "      <td>NaN</td>\n",
       "    </tr>\n",
       "  </tbody>\n",
       "</table>\n",
       "</div>"
      ],
      "text/plain": [
       "         Location Range Category  2019 Age-adjusted Rate  \\\n",
       "47     Washington   13.6 to 16.0                    15.8   \n",
       "48  West Virginia   21.1 to 57.0                    52.8   \n",
       "49      Wisconsin   21.1 to 57.0                    21.1   \n",
       "50        Wyoming   13.6 to 16.0                    14.1   \n",
       "51            NaN            NaN                     NaN   \n",
       "\n",
       "    2019 Number of Deaths  \n",
       "47                 1259.0  \n",
       "48                  870.0  \n",
       "49                 1201.0  \n",
       "50                   79.0  \n",
       "51                    NaN  "
      ]
     },
     "execution_count": 10,
     "metadata": {},
     "output_type": "execute_result"
    }
   ],
   "source": [
    "deaths2019.tail()"
   ]
  },
  {
   "cell_type": "code",
   "execution_count": 11,
   "id": "2cca32f3",
   "metadata": {
    "scrolled": true
   },
   "outputs": [
    {
     "data": {
      "text/html": [
       "<div>\n",
       "<style scoped>\n",
       "    .dataframe tbody tr th:only-of-type {\n",
       "        vertical-align: middle;\n",
       "    }\n",
       "\n",
       "    .dataframe tbody tr th {\n",
       "        vertical-align: top;\n",
       "    }\n",
       "\n",
       "    .dataframe thead th {\n",
       "        text-align: right;\n",
       "    }\n",
       "</style>\n",
       "<table border=\"1\" class=\"dataframe\">\n",
       "  <thead>\n",
       "    <tr style=\"text-align: right;\">\n",
       "      <th></th>\n",
       "      <th>Location</th>\n",
       "      <th>Statistically Significant Change</th>\n",
       "      <th>Percent Change from 2018-2019</th>\n",
       "    </tr>\n",
       "  </thead>\n",
       "  <tbody>\n",
       "    <tr>\n",
       "      <th>47</th>\n",
       "      <td>Washington</td>\n",
       "      <td>Stable</td>\n",
       "      <td>6.8</td>\n",
       "    </tr>\n",
       "    <tr>\n",
       "      <th>48</th>\n",
       "      <td>West Virginia</td>\n",
       "      <td>Stable</td>\n",
       "      <td>2.5</td>\n",
       "    </tr>\n",
       "    <tr>\n",
       "      <th>49</th>\n",
       "      <td>Wisconsin</td>\n",
       "      <td>Increase</td>\n",
       "      <td>9.9</td>\n",
       "    </tr>\n",
       "    <tr>\n",
       "      <th>50</th>\n",
       "      <td>Wyoming</td>\n",
       "      <td>Stable</td>\n",
       "      <td>27.0</td>\n",
       "    </tr>\n",
       "    <tr>\n",
       "      <th>51</th>\n",
       "      <td>NaN</td>\n",
       "      <td>NaN</td>\n",
       "      <td>NaN</td>\n",
       "    </tr>\n",
       "  </tbody>\n",
       "</table>\n",
       "</div>"
      ],
      "text/plain": [
       "         Location Statistically Significant Change   \\\n",
       "47     Washington                            Stable   \n",
       "48  West Virginia                            Stable   \n",
       "49      Wisconsin                          Increase   \n",
       "50        Wyoming                            Stable   \n",
       "51            NaN                               NaN   \n",
       "\n",
       "    Percent Change from 2018-2019  \n",
       "47                            6.8  \n",
       "48                            2.5  \n",
       "49                            9.9  \n",
       "50                           27.0  \n",
       "51                            NaN  "
      ]
     },
     "execution_count": 11,
     "metadata": {},
     "output_type": "execute_result"
    }
   ],
   "source": [
    "deathchange.tail()"
   ]
  },
  {
   "cell_type": "markdown",
   "id": "3b233d77",
   "metadata": {},
   "source": [
    "We can see that both of the datasets contain a row with NaN values that do not pertain to the dataset. The NaN rows can be dropped from both datasets to have comparable sized datasets."
   ]
  },
  {
   "cell_type": "code",
   "execution_count": 13,
   "id": "03b8ed6e",
   "metadata": {},
   "outputs": [
    {
     "data": {
      "text/plain": [
       "Location                  1\n",
       "Range Category            1\n",
       "2019 Age-adjusted Rate    1\n",
       "2019 Number of Deaths     1\n",
       "dtype: int64"
      ]
     },
     "execution_count": 13,
     "metadata": {},
     "output_type": "execute_result"
    }
   ],
   "source": [
    "deaths2019.isnull().sum()"
   ]
  },
  {
   "cell_type": "code",
   "execution_count": 16,
   "id": "306c4b97",
   "metadata": {},
   "outputs": [],
   "source": [
    "deaths2019 = deaths2019.dropna()"
   ]
  },
  {
   "cell_type": "code",
   "execution_count": 17,
   "id": "58476a1a",
   "metadata": {},
   "outputs": [
    {
     "data": {
      "text/html": [
       "<div>\n",
       "<style scoped>\n",
       "    .dataframe tbody tr th:only-of-type {\n",
       "        vertical-align: middle;\n",
       "    }\n",
       "\n",
       "    .dataframe tbody tr th {\n",
       "        vertical-align: top;\n",
       "    }\n",
       "\n",
       "    .dataframe thead th {\n",
       "        text-align: right;\n",
       "    }\n",
       "</style>\n",
       "<table border=\"1\" class=\"dataframe\">\n",
       "  <thead>\n",
       "    <tr style=\"text-align: right;\">\n",
       "      <th></th>\n",
       "      <th>Location</th>\n",
       "      <th>Range Category</th>\n",
       "      <th>2019 Age-adjusted Rate</th>\n",
       "      <th>2019 Number of Deaths</th>\n",
       "    </tr>\n",
       "  </thead>\n",
       "  <tbody>\n",
       "    <tr>\n",
       "      <th>46</th>\n",
       "      <td>Virginia</td>\n",
       "      <td>16.1 to 18.5</td>\n",
       "      <td>18.3</td>\n",
       "      <td>1547.0</td>\n",
       "    </tr>\n",
       "    <tr>\n",
       "      <th>47</th>\n",
       "      <td>Washington</td>\n",
       "      <td>13.6 to 16.0</td>\n",
       "      <td>15.8</td>\n",
       "      <td>1259.0</td>\n",
       "    </tr>\n",
       "    <tr>\n",
       "      <th>48</th>\n",
       "      <td>West Virginia</td>\n",
       "      <td>21.1 to 57.0</td>\n",
       "      <td>52.8</td>\n",
       "      <td>870.0</td>\n",
       "    </tr>\n",
       "    <tr>\n",
       "      <th>49</th>\n",
       "      <td>Wisconsin</td>\n",
       "      <td>21.1 to 57.0</td>\n",
       "      <td>21.1</td>\n",
       "      <td>1201.0</td>\n",
       "    </tr>\n",
       "    <tr>\n",
       "      <th>50</th>\n",
       "      <td>Wyoming</td>\n",
       "      <td>13.6 to 16.0</td>\n",
       "      <td>14.1</td>\n",
       "      <td>79.0</td>\n",
       "    </tr>\n",
       "  </tbody>\n",
       "</table>\n",
       "</div>"
      ],
      "text/plain": [
       "         Location Range Category  2019 Age-adjusted Rate  \\\n",
       "46       Virginia   16.1 to 18.5                    18.3   \n",
       "47     Washington   13.6 to 16.0                    15.8   \n",
       "48  West Virginia   21.1 to 57.0                    52.8   \n",
       "49      Wisconsin   21.1 to 57.0                    21.1   \n",
       "50        Wyoming   13.6 to 16.0                    14.1   \n",
       "\n",
       "    2019 Number of Deaths  \n",
       "46                 1547.0  \n",
       "47                 1259.0  \n",
       "48                  870.0  \n",
       "49                 1201.0  \n",
       "50                   79.0  "
      ]
     },
     "execution_count": 17,
     "metadata": {},
     "output_type": "execute_result"
    }
   ],
   "source": [
    "deaths2019.tail()"
   ]
  },
  {
   "cell_type": "code",
   "execution_count": 18,
   "id": "258e2d25",
   "metadata": {},
   "outputs": [
    {
     "data": {
      "text/plain": [
       "(51, 4)"
      ]
     },
     "execution_count": 18,
     "metadata": {},
     "output_type": "execute_result"
    }
   ],
   "source": [
    "deaths2019.shape"
   ]
  },
  {
   "cell_type": "code",
   "execution_count": 19,
   "id": "c62b6f43",
   "metadata": {},
   "outputs": [
    {
     "data": {
      "text/plain": [
       "Location                             1\n",
       "Statistically Significant Change     1\n",
       "Percent Change from 2018-2019        1\n",
       "dtype: int64"
      ]
     },
     "execution_count": 19,
     "metadata": {},
     "output_type": "execute_result"
    }
   ],
   "source": [
    "deathchange.isnull().sum()"
   ]
  },
  {
   "cell_type": "code",
   "execution_count": 20,
   "id": "a9b22cae",
   "metadata": {},
   "outputs": [],
   "source": [
    "deathchange = deathchange.dropna()"
   ]
  },
  {
   "cell_type": "code",
   "execution_count": 21,
   "id": "7a53b677",
   "metadata": {},
   "outputs": [
    {
     "data": {
      "text/html": [
       "<div>\n",
       "<style scoped>\n",
       "    .dataframe tbody tr th:only-of-type {\n",
       "        vertical-align: middle;\n",
       "    }\n",
       "\n",
       "    .dataframe tbody tr th {\n",
       "        vertical-align: top;\n",
       "    }\n",
       "\n",
       "    .dataframe thead th {\n",
       "        text-align: right;\n",
       "    }\n",
       "</style>\n",
       "<table border=\"1\" class=\"dataframe\">\n",
       "  <thead>\n",
       "    <tr style=\"text-align: right;\">\n",
       "      <th></th>\n",
       "      <th>Location</th>\n",
       "      <th>Statistically Significant Change</th>\n",
       "      <th>Percent Change from 2018-2019</th>\n",
       "    </tr>\n",
       "  </thead>\n",
       "  <tbody>\n",
       "    <tr>\n",
       "      <th>46</th>\n",
       "      <td>Virginia</td>\n",
       "      <td>Stable</td>\n",
       "      <td>7.0</td>\n",
       "    </tr>\n",
       "    <tr>\n",
       "      <th>47</th>\n",
       "      <td>Washington</td>\n",
       "      <td>Stable</td>\n",
       "      <td>6.8</td>\n",
       "    </tr>\n",
       "    <tr>\n",
       "      <th>48</th>\n",
       "      <td>West Virginia</td>\n",
       "      <td>Stable</td>\n",
       "      <td>2.5</td>\n",
       "    </tr>\n",
       "    <tr>\n",
       "      <th>49</th>\n",
       "      <td>Wisconsin</td>\n",
       "      <td>Increase</td>\n",
       "      <td>9.9</td>\n",
       "    </tr>\n",
       "    <tr>\n",
       "      <th>50</th>\n",
       "      <td>Wyoming</td>\n",
       "      <td>Stable</td>\n",
       "      <td>27.0</td>\n",
       "    </tr>\n",
       "  </tbody>\n",
       "</table>\n",
       "</div>"
      ],
      "text/plain": [
       "         Location Statistically Significant Change   \\\n",
       "46       Virginia                            Stable   \n",
       "47     Washington                            Stable   \n",
       "48  West Virginia                            Stable   \n",
       "49      Wisconsin                          Increase   \n",
       "50        Wyoming                            Stable   \n",
       "\n",
       "    Percent Change from 2018-2019  \n",
       "46                            7.0  \n",
       "47                            6.8  \n",
       "48                            2.5  \n",
       "49                            9.9  \n",
       "50                           27.0  "
      ]
     },
     "execution_count": 21,
     "metadata": {},
     "output_type": "execute_result"
    }
   ],
   "source": [
    "deathchange.tail()"
   ]
  },
  {
   "cell_type": "code",
   "execution_count": 22,
   "id": "7c8b4a65",
   "metadata": {},
   "outputs": [
    {
     "data": {
      "text/plain": [
       "(51, 3)"
      ]
     },
     "execution_count": 22,
     "metadata": {},
     "output_type": "execute_result"
    }
   ],
   "source": [
    "deathchange.shape"
   ]
  },
  {
   "cell_type": "markdown",
   "id": "848dcd71",
   "metadata": {},
   "source": [
    "Visualize the types of data for each dataset"
   ]
  },
  {
   "cell_type": "code",
   "execution_count": 23,
   "id": "c2d1e325",
   "metadata": {},
   "outputs": [
    {
     "name": "stdout",
     "output_type": "stream",
     "text": [
      "<class 'pandas.core.frame.DataFrame'>\n",
      "RangeIndex: 51 entries, 0 to 50\n",
      "Data columns (total 4 columns):\n",
      " #   Column                  Non-Null Count  Dtype  \n",
      "---  ------                  --------------  -----  \n",
      " 0   Location                51 non-null     object \n",
      " 1   Range Category          51 non-null     object \n",
      " 2   2018 Age-adjusted Rate  51 non-null     float64\n",
      " 3   2018 Number of Deaths   51 non-null     float64\n",
      "dtypes: float64(2), object(2)\n",
      "memory usage: 1.7+ KB\n"
     ]
    }
   ],
   "source": [
    "deaths2018.info()"
   ]
  },
  {
   "cell_type": "code",
   "execution_count": 24,
   "id": "2c752368",
   "metadata": {},
   "outputs": [
    {
     "name": "stdout",
     "output_type": "stream",
     "text": [
      "<class 'pandas.core.frame.DataFrame'>\n",
      "Int64Index: 51 entries, 0 to 50\n",
      "Data columns (total 4 columns):\n",
      " #   Column                  Non-Null Count  Dtype  \n",
      "---  ------                  --------------  -----  \n",
      " 0   Location                51 non-null     object \n",
      " 1   Range Category          51 non-null     object \n",
      " 2   2019 Age-adjusted Rate  51 non-null     float64\n",
      " 3   2019 Number of Deaths   51 non-null     float64\n",
      "dtypes: float64(2), object(2)\n",
      "memory usage: 2.0+ KB\n"
     ]
    }
   ],
   "source": [
    "deaths2019.info()"
   ]
  },
  {
   "cell_type": "code",
   "execution_count": 25,
   "id": "9a293c01",
   "metadata": {},
   "outputs": [
    {
     "name": "stdout",
     "output_type": "stream",
     "text": [
      "<class 'pandas.core.frame.DataFrame'>\n",
      "Int64Index: 51 entries, 0 to 50\n",
      "Data columns (total 3 columns):\n",
      " #   Column                             Non-Null Count  Dtype  \n",
      "---  ------                             --------------  -----  \n",
      " 0   Location                           51 non-null     object \n",
      " 1   Statistically Significant Change   51 non-null     object \n",
      " 2   Percent Change from 2018-2019      51 non-null     float64\n",
      "dtypes: float64(1), object(2)\n",
      "memory usage: 1.6+ KB\n"
     ]
    }
   ],
   "source": [
    "deathchange.info()"
   ]
  },
  {
   "cell_type": "markdown",
   "id": "3f2fbbd4",
   "metadata": {},
   "source": [
    "After looking at the datatypes that each dataset has we can see that all of the columns have the appropriate datatypes for data exploration."
   ]
  },
  {
   "cell_type": "code",
   "execution_count": 26,
   "id": "192b56e3",
   "metadata": {},
   "outputs": [
    {
     "data": {
      "text/html": [
       "<div>\n",
       "<style scoped>\n",
       "    .dataframe tbody tr th:only-of-type {\n",
       "        vertical-align: middle;\n",
       "    }\n",
       "\n",
       "    .dataframe tbody tr th {\n",
       "        vertical-align: top;\n",
       "    }\n",
       "\n",
       "    .dataframe thead th {\n",
       "        text-align: right;\n",
       "    }\n",
       "</style>\n",
       "<table border=\"1\" class=\"dataframe\">\n",
       "  <thead>\n",
       "    <tr style=\"text-align: right;\">\n",
       "      <th></th>\n",
       "      <th>2018 Age-adjusted Rate</th>\n",
       "      <th>2018 Number of Deaths</th>\n",
       "    </tr>\n",
       "  </thead>\n",
       "  <tbody>\n",
       "    <tr>\n",
       "      <th>count</th>\n",
       "      <td>51.000000</td>\n",
       "      <td>51.000000</td>\n",
       "    </tr>\n",
       "    <tr>\n",
       "      <th>mean</th>\n",
       "      <td>22.039216</td>\n",
       "      <td>1320.921569</td>\n",
       "    </tr>\n",
       "    <tr>\n",
       "      <th>std</th>\n",
       "      <td>10.025389</td>\n",
       "      <td>1320.472171</td>\n",
       "    </tr>\n",
       "    <tr>\n",
       "      <th>min</th>\n",
       "      <td>6.900000</td>\n",
       "      <td>57.000000</td>\n",
       "    </tr>\n",
       "    <tr>\n",
       "      <th>25%</th>\n",
       "      <td>13.750000</td>\n",
       "      <td>331.000000</td>\n",
       "    </tr>\n",
       "    <tr>\n",
       "      <th>50%</th>\n",
       "      <td>21.200000</td>\n",
       "      <td>856.000000</td>\n",
       "    </tr>\n",
       "    <tr>\n",
       "      <th>75%</th>\n",
       "      <td>27.700000</td>\n",
       "      <td>1746.500000</td>\n",
       "    </tr>\n",
       "    <tr>\n",
       "      <th>max</th>\n",
       "      <td>51.500000</td>\n",
       "      <td>5348.000000</td>\n",
       "    </tr>\n",
       "  </tbody>\n",
       "</table>\n",
       "</div>"
      ],
      "text/plain": [
       "       2018 Age-adjusted Rate  2018 Number of Deaths\n",
       "count               51.000000              51.000000\n",
       "mean                22.039216            1320.921569\n",
       "std                 10.025389            1320.472171\n",
       "min                  6.900000              57.000000\n",
       "25%                 13.750000             331.000000\n",
       "50%                 21.200000             856.000000\n",
       "75%                 27.700000            1746.500000\n",
       "max                 51.500000            5348.000000"
      ]
     },
     "execution_count": 26,
     "metadata": {},
     "output_type": "execute_result"
    }
   ],
   "source": [
    "deaths2018.describe()"
   ]
  },
  {
   "cell_type": "code",
   "execution_count": 27,
   "id": "5dd927c5",
   "metadata": {},
   "outputs": [
    {
     "data": {
      "text/html": [
       "<div>\n",
       "<style scoped>\n",
       "    .dataframe tbody tr th:only-of-type {\n",
       "        vertical-align: middle;\n",
       "    }\n",
       "\n",
       "    .dataframe tbody tr th {\n",
       "        vertical-align: top;\n",
       "    }\n",
       "\n",
       "    .dataframe thead th {\n",
       "        text-align: right;\n",
       "    }\n",
       "</style>\n",
       "<table border=\"1\" class=\"dataframe\">\n",
       "  <thead>\n",
       "    <tr style=\"text-align: right;\">\n",
       "      <th></th>\n",
       "      <th>2019 Age-adjusted Rate</th>\n",
       "      <th>2019 Number of Deaths</th>\n",
       "    </tr>\n",
       "  </thead>\n",
       "  <tbody>\n",
       "    <tr>\n",
       "      <th>count</th>\n",
       "      <td>51.000000</td>\n",
       "      <td>51.000000</td>\n",
       "    </tr>\n",
       "    <tr>\n",
       "      <th>mean</th>\n",
       "      <td>23.139216</td>\n",
       "      <td>1384.901961</td>\n",
       "    </tr>\n",
       "    <tr>\n",
       "      <th>std</th>\n",
       "      <td>10.184009</td>\n",
       "      <td>1407.558557</td>\n",
       "    </tr>\n",
       "    <tr>\n",
       "      <th>min</th>\n",
       "      <td>8.700000</td>\n",
       "      <td>79.000000</td>\n",
       "    </tr>\n",
       "    <tr>\n",
       "      <th>25%</th>\n",
       "      <td>14.650000</td>\n",
       "      <td>379.500000</td>\n",
       "    </tr>\n",
       "    <tr>\n",
       "      <th>50%</th>\n",
       "      <td>21.100000</td>\n",
       "      <td>870.000000</td>\n",
       "    </tr>\n",
       "    <tr>\n",
       "      <th>75%</th>\n",
       "      <td>30.050000</td>\n",
       "      <td>1998.000000</td>\n",
       "    </tr>\n",
       "    <tr>\n",
       "      <th>max</th>\n",
       "      <td>52.800000</td>\n",
       "      <td>6198.000000</td>\n",
       "    </tr>\n",
       "  </tbody>\n",
       "</table>\n",
       "</div>"
      ],
      "text/plain": [
       "       2019 Age-adjusted Rate  2019 Number of Deaths\n",
       "count               51.000000              51.000000\n",
       "mean                23.139216            1384.901961\n",
       "std                 10.184009            1407.558557\n",
       "min                  8.700000              79.000000\n",
       "25%                 14.650000             379.500000\n",
       "50%                 21.100000             870.000000\n",
       "75%                 30.050000            1998.000000\n",
       "max                 52.800000            6198.000000"
      ]
     },
     "execution_count": 27,
     "metadata": {},
     "output_type": "execute_result"
    }
   ],
   "source": [
    "deaths2019.describe()"
   ]
  },
  {
   "cell_type": "code",
   "execution_count": 28,
   "id": "910918bc",
   "metadata": {},
   "outputs": [
    {
     "data": {
      "text/html": [
       "<div>\n",
       "<style scoped>\n",
       "    .dataframe tbody tr th:only-of-type {\n",
       "        vertical-align: middle;\n",
       "    }\n",
       "\n",
       "    .dataframe tbody tr th {\n",
       "        vertical-align: top;\n",
       "    }\n",
       "\n",
       "    .dataframe thead th {\n",
       "        text-align: right;\n",
       "    }\n",
       "</style>\n",
       "<table border=\"1\" class=\"dataframe\">\n",
       "  <thead>\n",
       "    <tr style=\"text-align: right;\">\n",
       "      <th></th>\n",
       "      <th>Percent Change from 2018-2019</th>\n",
       "    </tr>\n",
       "  </thead>\n",
       "  <tbody>\n",
       "    <tr>\n",
       "      <th>count</th>\n",
       "      <td>51.000000</td>\n",
       "    </tr>\n",
       "    <tr>\n",
       "      <th>mean</th>\n",
       "      <td>7.096078</td>\n",
       "    </tr>\n",
       "    <tr>\n",
       "      <th>std</th>\n",
       "      <td>11.968709</td>\n",
       "    </tr>\n",
       "    <tr>\n",
       "      <th>min</th>\n",
       "      <td>-14.000000</td>\n",
       "    </tr>\n",
       "    <tr>\n",
       "      <th>25%</th>\n",
       "      <td>-1.250000</td>\n",
       "    </tr>\n",
       "    <tr>\n",
       "      <th>50%</th>\n",
       "      <td>6.800000</td>\n",
       "    </tr>\n",
       "    <tr>\n",
       "      <th>75%</th>\n",
       "      <td>13.050000</td>\n",
       "    </tr>\n",
       "    <tr>\n",
       "      <th>max</th>\n",
       "      <td>52.200000</td>\n",
       "    </tr>\n",
       "  </tbody>\n",
       "</table>\n",
       "</div>"
      ],
      "text/plain": [
       "       Percent Change from 2018-2019\n",
       "count                      51.000000\n",
       "mean                        7.096078\n",
       "std                        11.968709\n",
       "min                       -14.000000\n",
       "25%                        -1.250000\n",
       "50%                         6.800000\n",
       "75%                        13.050000\n",
       "max                        52.200000"
      ]
     },
     "execution_count": 28,
     "metadata": {},
     "output_type": "execute_result"
    }
   ],
   "source": [
    "deathchange.describe()"
   ]
  },
  {
   "cell_type": "code",
   "execution_count": 36,
   "id": "40c8bae6",
   "metadata": {},
   "outputs": [
    {
     "data": {
      "image/png": "[encoded data removed]",
      "text/plain": [
       "<Figure size 432x288 with 1 Axes>"
      ]
     },
     "metadata": {
      "needs_background": "light"
     },
     "output_type": "display_data"
    }
   ],
   "source": [
    "deaths2018.boxplot(column=['2018 Number of Deaths']);"
   ]
  },
  {
   "cell_type": "code",
   "execution_count": 37,
   "id": "443b72da",
   "metadata": {},
   "outputs": [
    {
     "data": {
      "image/png": "[encoded data removed]",
      "text/plain": [
       "<Figure size 432x288 with 1 Axes>"
      ]
     },
     "metadata": {
      "needs_background": "light"
     },
     "output_type": "display_data"
    }
   ],
   "source": [
    "deaths2019.boxplot(column=['2019 Number of Deaths']);"
   ]
  },
  {
   "cell_type": "markdown",
   "id": "8b414536",
   "metadata": {},
   "source": [
    "## Data Wrangling"
   ]
  },
  {
   "cell_type": "code",
   "execution_count": 38,
   "id": "697a0c5a",
   "metadata": {},
   "outputs": [
    {
     "data": {
      "text/plain": [
       "(51, 4)"
      ]
     },
     "execution_count": 38,
     "metadata": {},
     "output_type": "execute_result"
    }
   ],
   "source": [
    "deaths2018.shape"
   ]
  },
  {
   "cell_type": "code",
   "execution_count": 39,
   "id": "ac67da14",
   "metadata": {},
   "outputs": [
    {
     "data": {
      "text/plain": [
       "(51, 4)"
      ]
     },
     "execution_count": 39,
     "metadata": {},
     "output_type": "execute_result"
    }
   ],
   "source": [
    "deaths2019.shape"
   ]
  },
  {
   "cell_type": "code",
   "execution_count": 40,
   "id": "0efbe869",
   "metadata": {},
   "outputs": [
    {
     "data": {
      "text/plain": [
       "(51, 3)"
      ]
     },
     "execution_count": 40,
     "metadata": {},
     "output_type": "execute_result"
    }
   ],
   "source": [
    "deathchange.shape"
   ]
  },
  {
   "cell_type": "markdown",
   "id": "1cb56026",
   "metadata": {},
   "source": [
    "The deaths2018 and deaths2019 dataframes (datasets) are the same shape so the data will be comparable. The deathchange dataframe we just need info from the third column 'Percent Change from 2018-2019')."
   ]
  },
  {
   "cell_type": "markdown",
   "id": "63750ad4",
   "metadata": {},
   "source": [
    "## Statistical Analysis"
   ]
  },
  {
   "cell_type": "markdown",
   "id": "974fd722",
   "metadata": {},
   "source": [
    "Hypothesis: Deaths by drug overdose has increased from 2018 to 2019. "
   ]
  },
  {
   "cell_type": "code",
   "execution_count": null,
   "id": "7a4d69c2",
   "metadata": {},
   "outputs": [],
   "source": []
  }
 ],
 "metadata": {
  "kernelspec": {
   "display_name": "Python 3 (ipykernel)",
   "language": "python",
   "name": "python3"
  },
  "language_info": {
   "codemirror_mode": {
    "name": "ipython",
    "version": 3
   },
   "file_extension": ".py",
   "mimetype": "text/x-python",
   "name": "python",
   "nbconvert_exporter": "python",
   "pygments_lexer": "ipython3",
   "version": "3.10.1"
  }
 },
 "nbformat": 4,
 "nbformat_minor": 5
}
